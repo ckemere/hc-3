{
 "cells": [
  {
   "cell_type": "markdown",
   "metadata": {},
   "source": [
    "# [SfN] Train m=8\n",
    "\n",
    "_Etienne Ackermann, 08/05/2015_\n",
    "\n",
    "The data can be downloaded from the [CRCNS](http://crcns.org/data-sets/hc/hc-3) (Collaborative Research in Computational Neuroscience) website, and the ```hc-3``` data set in particular.\n",
    "\n",
    "### Summary\n",
    "\n",
    "Note that both **gor01** and **vvp01** were recorded with a Neuralynx recording system at 32,552 Hz, then amplified 1000x, followed by 1–5 kHz bandpass filtering. It was then further downsampled to 1252 Hz, and stored in the .eeg file, which is a binary file with the same number of channels as in the raw data.  Has up to 32 (four shank probe) or 64 (eight shank probe) short integers (2 bytes, signed) every time step.  (One integer from each recording site, i.e. channel).  Actual number of channels is specified in the .xml file and is not always a multiple of 8 because bad channels (due to very high impedance or broken shank) were removed from the data. \n",
    "\n",
    "---"
   ]
  },
  {
   "cell_type": "markdown",
   "metadata": {},
   "source": [
    "## Load observation data\n",
    "\n",
    "At this point we are interested in learning from the data, and we do this by considering sequences of spike count observations. That is, each observation is a $u$-dimensional vector, where $u$ is the number of units that we recorded, with each element corresponds to the number of spikes observed within a time bin of 250 or 10 ms, depending on whether we are considering the behavioral, or the replay timescales."
   ]
  },
  {
   "cell_type": "code",
   "execution_count": 104,
   "metadata": {
    "collapsed": false
   },
   "outputs": [],
   "source": [
    "import pickle\n",
    "\n",
    "# load SWR spikes for both environments (binned in 10 ms):\n",
    "with open('../../Data/SWR_train1rn.pickle', 'rb') as f:\n",
    "    SWR_train1 = pickle.load(f)\n",
    "with open('../../Data/SWR_train2rn.pickle', 'rb') as f:\n",
    "    SWR_train2 = pickle.load(f)\n",
    "    \n",
    "with open('../../Data/SWR_test1rn.pickle', 'rb') as f:\n",
    "    SWR_test1 = pickle.load(f)\n",
    "with open('../../Data/SWR_test2rn.pickle', 'rb') as f:\n",
    "    SWR_test2 = pickle.load(f)\n",
    "    \n",
    "# load training spike count data, binned in 250 ms bins:\n",
    "with open('../../Data/BVR_train1rn_noswr_noth1.pickle', 'rb') as f:\n",
    "    BVR_train1 = pickle.load(f)\n",
    "with open('../../Data/BVR_train2rn_noswr_th1.pickle', 'rb') as f:\n",
    "    BVR_train2 = pickle.load(f)    \n",
    "    \n",
    "# load testing spike count data, binned in 250 ms bins:\n",
    "with open('../../Data/BVR_test1rn_noswr_noth1.pickle', 'rb') as f:\n",
    "    BVR_test1 = pickle.load(f)  \n",
    "with open('../../Data/BVR_test2rn_noswr_th1.pickle', 'rb') as f:\n",
    "    BVR_test2 = pickle.load(f)"
   ]
  },
  {
   "cell_type": "markdown",
   "metadata": {},
   "source": [
    "## Load Python modules and helper functions"
   ]
  },
  {
   "cell_type": "code",
   "execution_count": 2,
   "metadata": {
    "collapsed": false
   },
   "outputs": [
    {
     "name": "stdout",
     "output_type": "stream",
     "text": [
      "function saveFigure(filename) loaded\n",
      "\n",
      "Tip: to save a figure, call saveFigure(\"path/figure.pdf\")\n"
     ]
    }
   ],
   "source": [
    "import sys\n",
    "sys.path.insert(0, '../')\n",
    "\n",
    "import numpy as np\n",
    "import pandas as pd\n",
    "import pickle \n",
    "import seaborn as sns\n",
    "import yahmm as ym\n",
    "\n",
    "from matplotlib import pyplot as plt\n",
    "from pandas import Series, DataFrame\n",
    "\n",
    "from efunctions import * # load my helper functions\n",
    "\n",
    "%matplotlib inline"
   ]
  },
  {
   "cell_type": "markdown",
   "metadata": {},
   "source": [
    "## Train HMMs on SWR-spike observations\n"
   ]
  },
  {
   "cell_type": "markdown",
   "metadata": {},
   "source": [
    "**WARNING!!** For some reason, my make-n-bake function does not seem to be adding either the states correctly, or the transitions. So when I bake it, all my states get orphaned and cut off... What's going on!!? Fixed it now! Python can be strange when it comes to passing and returning immutable (and mutable!) types... :/"
   ]
  },
  {
   "cell_type": "code",
   "execution_count": 3,
   "metadata": {
    "collapsed": false,
    "scrolled": true
   },
   "outputs": [],
   "source": [
    "import random\n",
    "eps = 0.001\n",
    "\n",
    "def make_n_bake_yahmm_model(ymModel, num_cells, num_states=15, verbose=False):\n",
    "    \n",
    "    mymodel = ymModel\n",
    "    \n",
    "    states_list = []\n",
    "    \n",
    "    # create list of states:\n",
    "    for ss in np.arange(0,num_states):\n",
    "        states_list.append(ym.State( ym.MultivariateDistribution( [ym.PoissonDistribution( random.random() + eps ) for c in range(num_cells) ] ) ))\n",
    "    \n",
    "    mymodel.add_states( states_list )\n",
    "    \n",
    "    # add transition probabilities:\n",
    "    \n",
    "    mymodel.add_transitions(mymodel.start, states_list, [0.1] * num_states )\n",
    "    for ss in np.arange(0,num_states):\n",
    "        mymodel.add_transitions(states_list[ss], states_list, [ random.random() + eps for r in np.arange(num_states)] )\n",
    "    \n",
    "    mymodel.bake( verbose=verbose )\n",
    "    return mymodel\n",
    "\n",
    "num_cells = len( SWR_train1[0][0] )\n",
    "\n",
    "#swrhmm8_2 = ym.Model(name=\"SWR-HMM_8_2\")\n",
    "swrhmm8_1 = make_n_bake_yahmm_model(ym.Model(name=\"SWR-HMM_8_1\"), num_cells, num_states=8)\n",
    "swrhmm8_2 = make_n_bake_yahmm_model(ym.Model(name=\"SWR-HMM_8_2\"), num_cells, num_states=8)\n",
    "swrhmm15_1 = make_n_bake_yahmm_model(ym.Model(name=\"SWR-HMM_15_1\"), num_cells, num_states=15)\n",
    "swrhmm15_2 = make_n_bake_yahmm_model(ym.Model(name=\"SWR-HMM_15_2\"), num_cells, num_states=15)\n",
    "swrhmm10_1 = make_n_bake_yahmm_model(ym.Model(name=\"SWR-HMM_10_1\"), num_cells, num_states=10)\n",
    "swrhmm10_2 = make_n_bake_yahmm_model(ym.Model(name=\"SWR-HMM_10_2\"), num_cells, num_states=10)\n",
    "\n",
    "hmm8_1 = make_n_bake_yahmm_model(ym.Model(name=\"HMM_8_1\"), num_cells, num_states=8)\n",
    "hmm8_2 = make_n_bake_yahmm_model(ym.Model(name=\"HMM_8_2\"), num_cells, num_states=8)\n",
    "hmm15_1 = make_n_bake_yahmm_model(ym.Model(name=\"HMM_15_1\"), num_cells, num_states=15)\n",
    "hmm15_2 = make_n_bake_yahmm_model(ym.Model(name=\"HMM_15_2\"), num_cells, num_states=15)\n",
    "hmm10_1 = make_n_bake_yahmm_model(ym.Model(name=\"HMM_10_1\"), num_cells, num_states=10)\n",
    "hmm10_2 = make_n_bake_yahmm_model(ym.Model(name=\"HMM_10_2\"), num_cells, num_states=10)"
   ]
  },
  {
   "cell_type": "markdown",
   "metadata": {},
   "source": [
    "## Train models"
   ]
  },
  {
   "cell_type": "code",
   "execution_count": 4,
   "metadata": {
    "collapsed": false
   },
   "outputs": [
    {
     "name": "stdout",
     "output_type": "stream",
     "text": [
      "Training improvement: 854.5186714722519\n",
      "Training improvement: 10.200636130307942\n",
      "Training improvement: -1.961263190690488\n",
      "('Total Training Improvement: ', 862.7580444118694)\n",
      "Training improvement: 311.90215063064386\n",
      "Training improvement: 48.01855724153893\n",
      "Training improvement: 9.241248416526332\n",
      "Training improvement: 2.534021590154225\n",
      "Training improvement: 0.9391272173896823\n",
      "Training improvement: 1.094257843380717\n",
      "Training improvement: 2.1053457890922687\n",
      "Training improvement: 2.4597117362769723\n",
      "Training improvement: 0.5352147324167049\n",
      "Training improvement: 0.08621232849947091\n",
      "Training improvement: 0.2531288499446873\n",
      "Training improvement: 0.29563027136902065\n",
      "Training improvement: -0.31295272439120936\n",
      "('Total Training Improvement: ', 379.15165392284166)\n",
      "Training improvement: 160.62220531943635\n",
      "Training improvement: 2.2979824150606376\n",
      "Training improvement: 1.2898025232255002\n",
      "Training improvement: 0.16818104337959028\n",
      "Training improvement: -0.0951309596713088\n",
      "('Total Training Improvement: ', 164.28304034143076)\n",
      "Training improvement: 138.90805983880202\n",
      "Training improvement: 0.46922548374270434\n",
      "Training improvement: 0.5508187328151308\n",
      "Training improvement: 0.5022611294166737\n",
      "Training improvement: 1.2827656411190773\n",
      "Training improvement: 1.3743698692896444\n",
      "Training improvement: 0.614792426433965\n",
      "Training improvement: 0.3171350175831549\n",
      "Training improvement: 0.13340719975257542\n",
      "Training improvement: 0.03379163207321767\n",
      "Training improvement: 0.030263904591102175\n",
      "Training improvement: 0.03212755630810449\n",
      "Training improvement: 0.002536302359082754\n",
      "Training improvement: 0.02009962693752243\n",
      "Training improvement: 0.05653334281697653\n",
      "Training improvement: 0.06883703003529007\n",
      "Training improvement: 0.009138893258779035\n",
      "Training improvement: -0.023756349601036675\n",
      "('Total Training Improvement: ', 144.382407277734)\n"
     ]
    }
   ],
   "source": [
    "def train_hmm(ymModel,train,num_sequences):\n",
    "    ymModel.train(train[:num_sequences],algorithm='baum-welch', verbose=True)\n",
    "    return ymModel\n",
    "\n",
    "hmm8_1 = train_hmm(hmm8_1,BVR_train1,num_sequences=80)\n",
    "hmm8_2 = train_hmm(hmm8_2,BVR_train2,num_sequences=80)\n",
    "swrhmm8_1 = train_hmm(swrhmm8_1,SWR_train1,num_sequences=80)\n",
    "swrhmm8_2 = train_hmm(swrhmm8_2,SWR_train2,num_sequences=80)"
   ]
  },
  {
   "cell_type": "code",
   "execution_count": 105,
   "metadata": {
    "collapsed": false
   },
   "outputs": [
    {
     "name": "stdout",
     "output_type": "stream",
     "text": [
      "Training improvement: 28.23704022029773\n",
      "Training improvement: 1.269475050203198"
     ]
    },
    {
     "name": "stderr",
     "output_type": "stream",
     "text": [
      "Exception ignored in: 'yahmm.yahmm.Model._train_once_baum_welch'\n",
      "Traceback (most recent call last):\n",
      "  File \"yahmm/yahmm.pyx\", line 2938, in yahmm.yahmm.Model.forward (/home/etienne/.pyxbld/temp.linux-x86_64-3.4/pyrex/yahmm/yahmm.c:45281)\n",
      "  File \"yahmm/yahmm.pyx\", line 2969, in yahmm.yahmm.Model._forward (/home/etienne/.pyxbld/temp.linux-x86_64-3.4/pyrex/yahmm/yahmm.c:45799)\n",
      "  File \"yahmm/yahmm.pyx\", line 1998, in yahmm.yahmm.MultivariateDistribution.log_probability (/home/etienne/.pyxbld/temp.linux-x86_64-3.4/pyrex/yahmm/yahmm.c:31326)\n",
      "  File \"yahmm/yahmm.pyx\", line 1998, in genexpr (/home/etienne/.pyxbld/temp.linux-x86_64-3.4/pyrex/yahmm/yahmm.c:31223)\n",
      "  File \"yahmm/yahmm.pyx\", line 551, in yahmm.yahmm.PoissonDistribution.log_probability (/home/etienne/.pyxbld/temp.linux-x86_64-3.4/pyrex/yahmm/yahmm.c:9910)\n",
      "  File \"/home/etienne/anaconda3/lib/python3.4/site-packages/scipy/stats/_distn_infrastructure.py\", line 2861, in logpmf\n",
      "    goodargs = argsreduce(cond, *((k,)+args))\n",
      "  File \"/home/etienne/anaconda3/lib/python3.4/site-packages/scipy/stats/_distn_infrastructure.py\", line 591, in argsreduce\n",
      "    newargs = np.atleast_1d(*args)\n",
      "  File \"/home/etienne/anaconda3/lib/python3.4/site-packages/numpy/core/shape_base.py\", line 49, in atleast_1d\n",
      "    ary = asanyarray(ary)\n",
      "  File \"/home/etienne/anaconda3/lib/python3.4/site-packages/numpy/core/numeric.py\", line 514, in asanyarray\n",
      "    return array(a, dtype, copy=False, order=order, subok=True)\n",
      "KeyboardInterrupt\n",
      "Exception ignored in: 'yahmm.yahmm.Model._log_probability'\n",
      "Traceback (most recent call last):\n",
      "  File \"yahmm/yahmm.pyx\", line 2938, in yahmm.yahmm.Model.forward (/home/etienne/.pyxbld/temp.linux-x86_64-3.4/pyrex/yahmm/yahmm.c:45281)\n",
      "  File \"yahmm/yahmm.pyx\", line 2969, in yahmm.yahmm.Model._forward (/home/etienne/.pyxbld/temp.linux-x86_64-3.4/pyrex/yahmm/yahmm.c:45799)\n",
      "  File \"yahmm/yahmm.pyx\", line 1998, in yahmm.yahmm.MultivariateDistribution.log_probability (/home/etienne/.pyxbld/temp.linux-x86_64-3.4/pyrex/yahmm/yahmm.c:31326)\n",
      "  File \"yahmm/yahmm.pyx\", line 1998, in genexpr (/home/etienne/.pyxbld/temp.linux-x86_64-3.4/pyrex/yahmm/yahmm.c:31223)\n",
      "  File \"yahmm/yahmm.pyx\", line 551, in yahmm.yahmm.PoissonDistribution.log_probability (/home/etienne/.pyxbld/temp.linux-x86_64-3.4/pyrex/yahmm/yahmm.c:9910)\n",
      "  File \"/home/etienne/anaconda3/lib/python3.4/site-packages/scipy/stats/_distn_infrastructure.py\", line 2862, in logpmf\n",
      "    place(output, cond, self._logpmf(*goodargs))\n",
      "  File \"/home/etienne/anaconda3/lib/python3.4/site-packages/scipy/stats/_discrete_distns.py\", line 439, in _logpmf\n",
      "    Pk = k*log(mu)-gamln(k+1) - mu\n",
      "KeyboardInterrupt\n",
      "Exception ignored in: 'yahmm.yahmm.Model._log_probability'\n",
      "Traceback (most recent call last):\n",
      "  File \"yahmm/yahmm.pyx\", line 2938, in yahmm.yahmm.Model.forward (/home/etienne/.pyxbld/temp.linux-x86_64-3.4/pyrex/yahmm/yahmm.c:45281)\n",
      "  File \"yahmm/yahmm.pyx\", line 2969, in yahmm.yahmm.Model._forward (/home/etienne/.pyxbld/temp.linux-x86_64-3.4/pyrex/yahmm/yahmm.c:45799)\n",
      "  File \"yahmm/yahmm.pyx\", line 1998, in yahmm.yahmm.MultivariateDistribution.log_probability (/home/etienne/.pyxbld/temp.linux-x86_64-3.4/pyrex/yahmm/yahmm.c:31326)\n",
      "  File \"yahmm/yahmm.pyx\", line 1998, in genexpr (/home/etienne/.pyxbld/temp.linux-x86_64-3.4/pyrex/yahmm/yahmm.c:31223)\n",
      "  File \"yahmm/yahmm.pyx\", line 551, in yahmm.yahmm.PoissonDistribution.log_probability (/home/etienne/.pyxbld/temp.linux-x86_64-3.4/pyrex/yahmm/yahmm.c:9910)\n",
      "  File \"/home/etienne/anaconda3/lib/python3.4/site-packages/scipy/stats/_distn_infrastructure.py\", line 2852, in logpmf\n",
      "    args = tuple(map(asarray, args))\n",
      "KeyboardInterrupt\n",
      "Exception ignored in: 'yahmm.yahmm.Model._log_probability'\n",
      "Traceback (most recent call last):\n",
      "  File \"yahmm/yahmm.pyx\", line 2938, in yahmm.yahmm.Model.forward (/home/etienne/.pyxbld/temp.linux-x86_64-3.4/pyrex/yahmm/yahmm.c:45281)\n",
      "  File \"yahmm/yahmm.pyx\", line 2969, in yahmm.yahmm.Model._forward (/home/etienne/.pyxbld/temp.linux-x86_64-3.4/pyrex/yahmm/yahmm.c:45799)\n",
      "  File \"yahmm/yahmm.pyx\", line 1998, in yahmm.yahmm.MultivariateDistribution.log_probability (/home/etienne/.pyxbld/temp.linux-x86_64-3.4/pyrex/yahmm/yahmm.c:31326)\n",
      "  File \"yahmm/yahmm.pyx\", line 1998, in genexpr (/home/etienne/.pyxbld/temp.linux-x86_64-3.4/pyrex/yahmm/yahmm.c:31223)\n",
      "  File \"yahmm/yahmm.pyx\", line 551, in yahmm.yahmm.PoissonDistribution.log_probability (/home/etienne/.pyxbld/temp.linux-x86_64-3.4/pyrex/yahmm/yahmm.c:9910)\n",
      "  File \"/home/etienne/anaconda3/lib/python3.4/site-packages/scipy/stats/_distn_infrastructure.py\", line 2859, in logpmf\n",
      "    place(output, (1-cond0) + np.isnan(k), self.badvalue)\n",
      "  File \"/home/etienne/anaconda3/lib/python3.4/site-packages/numpy/lib/function_base.py\", line 1484, in place\n",
      "    return _insert(arr, mask, vals)\n",
      "KeyboardInterrupt\n",
      "Exception ignored in: 'yahmm.yahmm.Model._log_probability'\n",
      "Traceback (most recent call last):\n",
      "  File \"yahmm/yahmm.pyx\", line 2938, in yahmm.yahmm.Model.forward (/home/etienne/.pyxbld/temp.linux-x86_64-3.4/pyrex/yahmm/yahmm.c:45281)\n",
      "  File \"yahmm/yahmm.pyx\", line 2969, in yahmm.yahmm.Model._forward (/home/etienne/.pyxbld/temp.linux-x86_64-3.4/pyrex/yahmm/yahmm.c:45799)\n",
      "  File \"yahmm/yahmm.pyx\", line 1998, in yahmm.yahmm.MultivariateDistribution.log_probability (/home/etienne/.pyxbld/temp.linux-x86_64-3.4/pyrex/yahmm/yahmm.c:31326)\n",
      "  File \"yahmm/yahmm.pyx\", line 1998, in genexpr (/home/etienne/.pyxbld/temp.linux-x86_64-3.4/pyrex/yahmm/yahmm.c:31223)\n",
      "  File \"yahmm/yahmm.pyx\", line 551, in yahmm.yahmm.PoissonDistribution.log_probability (/home/etienne/.pyxbld/temp.linux-x86_64-3.4/pyrex/yahmm/yahmm.c:9910)\n",
      "  File \"/home/etienne/anaconda3/lib/python3.4/site-packages/scipy/stats/_distn_infrastructure.py\", line 2855, in logpmf\n",
      "    cond1 = (k >= self.a) & (k <= self.b) & self._nonzero(k, *args)\n",
      "  File \"/home/etienne/anaconda3/lib/python3.4/site-packages/scipy/stats/_distn_infrastructure.py\", line 2747, in _nonzero\n",
      "    def _nonzero(self, k, *args):\n",
      "KeyboardInterrupt\n",
      "Exception ignored in: 'yahmm.yahmm.Model._log_probability'\n",
      "Traceback (most recent call last):\n",
      "  File \"yahmm/yahmm.pyx\", line 2938, in yahmm.yahmm.Model.forward (/home/etienne/.pyxbld/temp.linux-x86_64-3.4/pyrex/yahmm/yahmm.c:45281)\n",
      "  File \"yahmm/yahmm.pyx\", line 2969, in yahmm.yahmm.Model._forward (/home/etienne/.pyxbld/temp.linux-x86_64-3.4/pyrex/yahmm/yahmm.c:45799)\n",
      "  File \"yahmm/yahmm.pyx\", line 1998, in yahmm.yahmm.MultivariateDistribution.log_probability (/home/etienne/.pyxbld/temp.linux-x86_64-3.4/pyrex/yahmm/yahmm.c:31326)\n",
      "  File \"yahmm/yahmm.pyx\", line 1998, in genexpr (/home/etienne/.pyxbld/temp.linux-x86_64-3.4/pyrex/yahmm/yahmm.c:31223)\n",
      "  File \"yahmm/yahmm.pyx\", line 551, in yahmm.yahmm.PoissonDistribution.log_probability (/home/etienne/.pyxbld/temp.linux-x86_64-3.4/pyrex/yahmm/yahmm.c:9910)\n",
      "  File \"/home/etienne/anaconda3/lib/python3.4/site-packages/scipy/stats/_distn_infrastructure.py\", line 2861, in logpmf\n",
      "    goodargs = argsreduce(cond, *((k,)+args))\n",
      "  File \"/home/etienne/anaconda3/lib/python3.4/site-packages/scipy/stats/_distn_infrastructure.py\", line 591, in argsreduce\n",
      "    newargs = np.atleast_1d(*args)\n",
      "  File \"/home/etienne/anaconda3/lib/python3.4/site-packages/numpy/core/shape_base.py\", line 51, in atleast_1d\n",
      "    result = ary.reshape(1)\n",
      "KeyboardInterrupt\n",
      "Exception ignored in: 'yahmm.yahmm.Model._log_probability'\n",
      "Traceback (most recent call last):\n",
      "  File \"yahmm/yahmm.pyx\", line 2938, in yahmm.yahmm.Model.forward (/home/etienne/.pyxbld/temp.linux-x86_64-3.4/pyrex/yahmm/yahmm.c:45281)\n",
      "  File \"yahmm/yahmm.pyx\", line 2969, in yahmm.yahmm.Model._forward (/home/etienne/.pyxbld/temp.linux-x86_64-3.4/pyrex/yahmm/yahmm.c:45799)\n",
      "  File \"yahmm/yahmm.pyx\", line 1998, in yahmm.yahmm.MultivariateDistribution.log_probability (/home/etienne/.pyxbld/temp.linux-x86_64-3.4/pyrex/yahmm/yahmm.c:31326)\n",
      "  File \"yahmm/yahmm.pyx\", line 1998, in genexpr (/home/etienne/.pyxbld/temp.linux-x86_64-3.4/pyrex/yahmm/yahmm.c:31223)\n",
      "  File \"yahmm/yahmm.pyx\", line 551, in yahmm.yahmm.PoissonDistribution.log_probability (/home/etienne/.pyxbld/temp.linux-x86_64-3.4/pyrex/yahmm/yahmm.c:9910)\n",
      "  File \"/home/etienne/anaconda3/lib/python3.4/site-packages/scipy/stats/_distn_infrastructure.py\", line 2854, in logpmf\n",
      "    cond0 = self._argcheck(*args)\n",
      "  File \"/home/etienne/anaconda3/lib/python3.4/site-packages/scipy/stats/_distn_infrastructure.py\", line 826, in _argcheck\n",
      "    cond = logical_and(cond, (asarray(arg) > 0))\n",
      "KeyboardInterrupt\n",
      "Exception ignored in: 'yahmm.yahmm.Model._log_probability'\n",
      "Traceback (most recent call last):\n",
      "  File \"yahmm/yahmm.pyx\", line 2938, in yahmm.yahmm.Model.forward (/home/etienne/.pyxbld/temp.linux-x86_64-3.4/pyrex/yahmm/yahmm.c:45281)\n",
      "  File \"yahmm/yahmm.pyx\", line 2969, in yahmm.yahmm.Model._forward (/home/etienne/.pyxbld/temp.linux-x86_64-3.4/pyrex/yahmm/yahmm.c:45799)\n",
      "  File \"yahmm/yahmm.pyx\", line 1998, in yahmm.yahmm.MultivariateDistribution.log_probability (/home/etienne/.pyxbld/temp.linux-x86_64-3.4/pyrex/yahmm/yahmm.c:31326)\n",
      "  File \"yahmm/yahmm.pyx\", line 1998, in genexpr (/home/etienne/.pyxbld/temp.linux-x86_64-3.4/pyrex/yahmm/yahmm.c:31223)\n",
      "  File \"yahmm/yahmm.pyx\", line 551, in yahmm.yahmm.PoissonDistribution.log_probability (/home/etienne/.pyxbld/temp.linux-x86_64-3.4/pyrex/yahmm/yahmm.c:9910)\n",
      "  File \"/home/etienne/anaconda3/lib/python3.4/site-packages/scipy/stats/_distn_infrastructure.py\", line 2830, in logpmf\n",
      "    def logpmf(self, k, *args, **kwds):\n",
      "KeyboardInterrupt\n",
      "Exception ignored in: 'yahmm.yahmm.Model._log_probability'\n",
      "Traceback (most recent call last):\n",
      "  File \"yahmm/yahmm.pyx\", line 2938, in yahmm.yahmm.Model.forward (/home/etienne/.pyxbld/temp.linux-x86_64-3.4/pyrex/yahmm/yahmm.c:45281)\n",
      "  File \"yahmm/yahmm.pyx\", line 2969, in yahmm.yahmm.Model._forward (/home/etienne/.pyxbld/temp.linux-x86_64-3.4/pyrex/yahmm/yahmm.c:45799)\n",
      "  File \"yahmm/yahmm.pyx\", line 1998, in yahmm.yahmm.MultivariateDistribution.log_probability (/home/etienne/.pyxbld/temp.linux-x86_64-3.4/pyrex/yahmm/yahmm.c:31326)\n",
      "  File \"yahmm/yahmm.pyx\", line 1998, in genexpr (/home/etienne/.pyxbld/temp.linux-x86_64-3.4/pyrex/yahmm/yahmm.c:31223)\n",
      "  File \"yahmm/yahmm.pyx\", line 551, in yahmm.yahmm.PoissonDistribution.log_probability (/home/etienne/.pyxbld/temp.linux-x86_64-3.4/pyrex/yahmm/yahmm.c:9910)\n",
      "  File \"/home/etienne/anaconda3/lib/python3.4/site-packages/scipy/stats/_distn_infrastructure.py\", line 2861, in logpmf\n",
      "    goodargs = argsreduce(cond, *((k,)+args))\n",
      "  File \"/home/etienne/anaconda3/lib/python3.4/site-packages/scipy/stats/_distn_infrastructure.py\", line 591, in argsreduce\n",
      "    newargs = np.atleast_1d(*args)\n",
      "  File \"/home/etienne/anaconda3/lib/python3.4/site-packages/numpy/core/shape_base.py\", line 49, in atleast_1d\n",
      "    ary = asanyarray(ary)\n",
      "  File \"/home/etienne/anaconda3/lib/python3.4/site-packages/numpy/core/numeric.py\", line 514, in asanyarray\n",
      "    return array(a, dtype, copy=False, order=order, subok=True)\n",
      "KeyboardInterrupt\n",
      "Exception ignored in: 'yahmm.yahmm.Model._log_probability'\n",
      "Traceback (most recent call last):\n",
      "  File \"yahmm/yahmm.pyx\", line 2938, in yahmm.yahmm.Model.forward (/home/etienne/.pyxbld/temp.linux-x86_64-3.4/pyrex/yahmm/yahmm.c:45281)\n",
      "  File \"yahmm/yahmm.pyx\", line 2969, in yahmm.yahmm.Model._forward (/home/etienne/.pyxbld/temp.linux-x86_64-3.4/pyrex/yahmm/yahmm.c:45799)\n",
      "  File \"yahmm/yahmm.pyx\", line 1998, in yahmm.yahmm.MultivariateDistribution.log_probability (/home/etienne/.pyxbld/temp.linux-x86_64-3.4/pyrex/yahmm/yahmm.c:31326)\n",
      "  File \"yahmm/yahmm.pyx\", line 1998, in genexpr (/home/etienne/.pyxbld/temp.linux-x86_64-3.4/pyrex/yahmm/yahmm.c:31223)\n",
      "  File \"yahmm/yahmm.pyx\", line 551, in yahmm.yahmm.PoissonDistribution.log_probability (/home/etienne/.pyxbld/temp.linux-x86_64-3.4/pyrex/yahmm/yahmm.c:9910)\n",
      "  File \"/home/etienne/anaconda3/lib/python3.4/site-packages/scipy/stats/_distn_infrastructure.py\", line 2861, in logpmf\n",
      "    goodargs = argsreduce(cond, *((k,)+args))\n",
      "  File \"/home/etienne/anaconda3/lib/python3.4/site-packages/scipy/stats/_distn_infrastructure.py\", line 595, in argsreduce\n",
      "    return [np.extract(cond, arr1 * expand_arr) for arr1 in newargs]\n",
      "  File \"/home/etienne/anaconda3/lib/python3.4/site-packages/scipy/stats/_distn_infrastructure.py\", line 595, in <listcomp>\n",
      "    return [np.extract(cond, arr1 * expand_arr) for arr1 in newargs]\n",
      "KeyboardInterrupt\n",
      "Exception ignored in: 'yahmm.yahmm.Model._log_probability'\n",
      "Traceback (most recent call last):\n",
      "  File \"yahmm/yahmm.pyx\", line 2938, in yahmm.yahmm.Model.forward (/home/etienne/.pyxbld/temp.linux-x86_64-3.4/pyrex/yahmm/yahmm.c:45281)\n",
      "  File \"yahmm/yahmm.pyx\", line 2969, in yahmm.yahmm.Model._forward (/home/etienne/.pyxbld/temp.linux-x86_64-3.4/pyrex/yahmm/yahmm.c:45799)\n",
      "  File \"yahmm/yahmm.pyx\", line 1998, in yahmm.yahmm.MultivariateDistribution.log_probability (/home/etienne/.pyxbld/temp.linux-x86_64-3.4/pyrex/yahmm/yahmm.c:31326)\n",
      "  File \"yahmm/yahmm.pyx\", line 1998, in genexpr (/home/etienne/.pyxbld/temp.linux-x86_64-3.4/pyrex/yahmm/yahmm.c:31223)\n",
      "  File \"yahmm/yahmm.pyx\", line 551, in yahmm.yahmm.PoissonDistribution.log_probability (/home/etienne/.pyxbld/temp.linux-x86_64-3.4/pyrex/yahmm/yahmm.c:9910)\n",
      "  File \"/home/etienne/anaconda3/lib/python3.4/site-packages/scipy/stats/_distn_infrastructure.py\", line 2854, in logpmf\n",
      "    cond0 = self._argcheck(*args)\n",
      "  File \"/home/etienne/anaconda3/lib/python3.4/site-packages/scipy/stats/_distn_infrastructure.py\", line 826, in _argcheck\n",
      "    cond = logical_and(cond, (asarray(arg) > 0))\n",
      "KeyboardInterrupt\n",
      "Exception ignored in: "
     ]
    },
    {
     "name": "stdout",
     "output_type": "stream",
     "text": [
      "\n",
      "Training improvement: 288.53174930868204"
     ]
    },
    {
     "name": "stderr",
     "output_type": "stream",
     "text": [
      "'yahmm.yahmm.Model._log_probability'\n",
      "Traceback (most recent call last):\n",
      "  File \"yahmm/yahmm.pyx\", line 2938, in yahmm.yahmm.Model.forward (/home/etienne/.pyxbld/temp.linux-x86_64-3.4/pyrex/yahmm/yahmm.c:45281)\n",
      "  File \"yahmm/yahmm.pyx\", line 2969, in yahmm.yahmm.Model._forward (/home/etienne/.pyxbld/temp.linux-x86_64-3.4/pyrex/yahmm/yahmm.c:45799)\n",
      "  File \"yahmm/yahmm.pyx\", line 1998, in yahmm.yahmm.MultivariateDistribution.log_probability (/home/etienne/.pyxbld/temp.linux-x86_64-3.4/pyrex/yahmm/yahmm.c:31326)\n",
      "  File \"yahmm/yahmm.pyx\", line 1998, in genexpr (/home/etienne/.pyxbld/temp.linux-x86_64-3.4/pyrex/yahmm/yahmm.c:31223)\n",
      "  File \"yahmm/yahmm.pyx\", line 551, in yahmm.yahmm.PoissonDistribution.log_probability (/home/etienne/.pyxbld/temp.linux-x86_64-3.4/pyrex/yahmm/yahmm.c:9910)\n",
      "  File \"/home/etienne/anaconda3/lib/python3.4/site-packages/scipy/stats/_distn_infrastructure.py\", line 2862, in logpmf\n",
      "    place(output, cond, self._logpmf(*goodargs))\n",
      "  File \"/home/etienne/anaconda3/lib/python3.4/site-packages/scipy/stats/_discrete_distns.py\", line 439, in _logpmf\n",
      "    Pk = k*log(mu)-gamln(k+1) - mu\n",
      "KeyboardInterrupt\n",
      "Exception ignored in: 'yahmm.yahmm.Model._train_once_baum_welch'\n",
      "Traceback (most recent call last):\n",
      "  File \"yahmm/yahmm.pyx\", line 1998, in yahmm.yahmm.MultivariateDistribution.log_probability (/home/etienne/.pyxbld/temp.linux-x86_64-3.4/pyrex/yahmm/yahmm.c:31326)\n",
      "  File \"yahmm/yahmm.pyx\", line 1998, in genexpr (/home/etienne/.pyxbld/temp.linux-x86_64-3.4/pyrex/yahmm/yahmm.c:31223)\n",
      "  File \"yahmm/yahmm.pyx\", line 551, in yahmm.yahmm.PoissonDistribution.log_probability (/home/etienne/.pyxbld/temp.linux-x86_64-3.4/pyrex/yahmm/yahmm.c:9910)\n",
      "  File \"/home/etienne/anaconda3/lib/python3.4/site-packages/scipy/stats/_distn_infrastructure.py\", line 2861, in logpmf\n",
      "    goodargs = argsreduce(cond, *((k,)+args))\n",
      "  File \"/home/etienne/anaconda3/lib/python3.4/site-packages/scipy/stats/_distn_infrastructure.py\", line 595, in argsreduce\n",
      "    return [np.extract(cond, arr1 * expand_arr) for arr1 in newargs]\n",
      "  File \"/home/etienne/anaconda3/lib/python3.4/site-packages/scipy/stats/_distn_infrastructure.py\", line 595, in <listcomp>\n",
      "    return [np.extract(cond, arr1 * expand_arr) for arr1 in newargs]\n",
      "  File \"/home/etienne/anaconda3/lib/python3.4/site-packages/numpy/lib/function_base.py\", line 1446, in extract\n",
      "    return _nx.take(ravel(arr), nonzero(ravel(condition))[0])\n",
      "  File \"/home/etienne/anaconda3/lib/python3.4/site-packages/numpy/core/fromnumeric.py\", line 1377, in ravel\n",
      "    return asarray(a).ravel(order)\n",
      "  File \"/home/etienne/anaconda3/lib/python3.4/site-packages/numpy/core/numeric.py\", line 462, in asarray\n",
      "    return array(a, dtype, copy=False, order=order)\n",
      "KeyboardInterrupt\n",
      "Exception ignored in: 'yahmm.yahmm.Model._log_probability'\n",
      "Traceback (most recent call last):\n",
      "  File \"yahmm/yahmm.pyx\", line 2938, in yahmm.yahmm.Model.forward (/home/etienne/.pyxbld/temp.linux-x86_64-3.4/pyrex/yahmm/yahmm.c:45281)\n",
      "  File \"yahmm/yahmm.pyx\", line 2969, in yahmm.yahmm.Model._forward (/home/etienne/.pyxbld/temp.linux-x86_64-3.4/pyrex/yahmm/yahmm.c:45799)\n",
      "  File \"yahmm/yahmm.pyx\", line 1998, in yahmm.yahmm.MultivariateDistribution.log_probability (/home/etienne/.pyxbld/temp.linux-x86_64-3.4/pyrex/yahmm/yahmm.c:31326)\n",
      "  File \"yahmm/yahmm.pyx\", line 1998, in genexpr (/home/etienne/.pyxbld/temp.linux-x86_64-3.4/pyrex/yahmm/yahmm.c:31223)\n",
      "  File \"yahmm/yahmm.pyx\", line 551, in yahmm.yahmm.PoissonDistribution.log_probability (/home/etienne/.pyxbld/temp.linux-x86_64-3.4/pyrex/yahmm/yahmm.c:9910)\n",
      "  File \"/home/etienne/anaconda3/lib/python3.4/site-packages/scipy/stats/_distn_infrastructure.py\", line 2830, in logpmf\n",
      "    def logpmf(self, k, *args, **kwds):\n",
      "KeyboardInterrupt\n",
      "Exception ignored in: 'yahmm.yahmm.Model._log_probability'\n",
      "Traceback (most recent call last):\n",
      "  File \"yahmm/yahmm.pyx\", line 2938, in yahmm.yahmm.Model.forward (/home/etienne/.pyxbld/temp.linux-x86_64-3.4/pyrex/yahmm/yahmm.c:45281)\n",
      "  File \"yahmm/yahmm.pyx\", line 2969, in yahmm.yahmm.Model._forward (/home/etienne/.pyxbld/temp.linux-x86_64-3.4/pyrex/yahmm/yahmm.c:45799)\n",
      "  File \"yahmm/yahmm.pyx\", line 1998, in yahmm.yahmm.MultivariateDistribution.log_probability (/home/etienne/.pyxbld/temp.linux-x86_64-3.4/pyrex/yahmm/yahmm.c:31326)\n",
      "  File \"yahmm/yahmm.pyx\", line 1998, in genexpr (/home/etienne/.pyxbld/temp.linux-x86_64-3.4/pyrex/yahmm/yahmm.c:31223)\n",
      "  File \"yahmm/yahmm.pyx\", line 551, in yahmm.yahmm.PoissonDistribution.log_probability (/home/etienne/.pyxbld/temp.linux-x86_64-3.4/pyrex/yahmm/yahmm.c:9910)\n",
      "  File \"/home/etienne/anaconda3/lib/python3.4/site-packages/scipy/stats/_distn_infrastructure.py\", line 2857, in logpmf\n",
      "    output = empty(shape(cond), 'd')\n",
      "KeyboardInterrupt\n",
      "Exception ignored in: 'yahmm.yahmm.Model._log_probability'\n",
      "Traceback (most recent call last):\n",
      "  File \"yahmm/yahmm.pyx\", line 2938, in yahmm.yahmm.Model.forward (/home/etienne/.pyxbld/temp.linux-x86_64-3.4/pyrex/yahmm/yahmm.c:45281)\n",
      "  File \"yahmm/yahmm.pyx\", line 2969, in yahmm.yahmm.Model._forward (/home/etienne/.pyxbld/temp.linux-x86_64-3.4/pyrex/yahmm/yahmm.c:45799)\n",
      "  File \"yahmm/yahmm.pyx\", line 1998, in yahmm.yahmm.MultivariateDistribution.log_probability (/home/etienne/.pyxbld/temp.linux-x86_64-3.4/pyrex/yahmm/yahmm.c:31326)\n",
      "  File \"yahmm/yahmm.pyx\", line 1998, in genexpr (/home/etienne/.pyxbld/temp.linux-x86_64-3.4/pyrex/yahmm/yahmm.c:31223)\n",
      "  File \"yahmm/yahmm.pyx\", line 551, in yahmm.yahmm.PoissonDistribution.log_probability (/home/etienne/.pyxbld/temp.linux-x86_64-3.4/pyrex/yahmm/yahmm.c:9910)\n",
      "  File \"/home/etienne/anaconda3/lib/python3.4/site-packages/scipy/stats/_distn_infrastructure.py\", line 2862, in logpmf\n",
      "    place(output, cond, self._logpmf(*goodargs))\n",
      "  File \"/home/etienne/anaconda3/lib/python3.4/site-packages/scipy/stats/_discrete_distns.py\", line 439, in _logpmf\n",
      "    Pk = k*log(mu)-gamln(k+1) - mu\n",
      "KeyboardInterrupt\n",
      "Exception ignored in: 'yahmm.yahmm.Model._log_probability'\n",
      "Traceback (most recent call last):\n",
      "  File \"yahmm/yahmm.pyx\", line 2938, in yahmm.yahmm.Model.forward (/home/etienne/.pyxbld/temp.linux-x86_64-3.4/pyrex/yahmm/yahmm.c:45281)\n",
      "  File \"yahmm/yahmm.pyx\", line 2969, in yahmm.yahmm.Model._forward (/home/etienne/.pyxbld/temp.linux-x86_64-3.4/pyrex/yahmm/yahmm.c:45799)\n",
      "  File \"yahmm/yahmm.pyx\", line 1998, in yahmm.yahmm.MultivariateDistribution.log_probability (/home/etienne/.pyxbld/temp.linux-x86_64-3.4/pyrex/yahmm/yahmm.c:31326)\n",
      "  File \"yahmm/yahmm.pyx\", line 1998, in genexpr (/home/etienne/.pyxbld/temp.linux-x86_64-3.4/pyrex/yahmm/yahmm.c:31223)\n",
      "  File \"yahmm/yahmm.pyx\", line 551, in yahmm.yahmm.PoissonDistribution.log_probability (/home/etienne/.pyxbld/temp.linux-x86_64-3.4/pyrex/yahmm/yahmm.c:9910)\n",
      "  File \"/home/etienne/anaconda3/lib/python3.4/site-packages/scipy/stats/_distn_infrastructure.py\", line 2853, in logpmf\n",
      "    k = asarray((k-loc))\n",
      "KeyboardInterrupt\n",
      "Exception ignored in: 'yahmm.yahmm.Model._log_probability'\n",
      "Traceback (most recent call last):\n",
      "  File \"yahmm/yahmm.pyx\", line 2938, in yahmm.yahmm.Model.forward (/home/etienne/.pyxbld/temp.linux-x86_64-3.4/pyrex/yahmm/yahmm.c:45281)\n",
      "  File \"yahmm/yahmm.pyx\", line 2969, in yahmm.yahmm.Model._forward (/home/etienne/.pyxbld/temp.linux-x86_64-3.4/pyrex/yahmm/yahmm.c:45799)\n",
      "  File \"yahmm/yahmm.pyx\", line 1998, in yahmm.yahmm.MultivariateDistribution.log_probability (/home/etienne/.pyxbld/temp.linux-x86_64-3.4/pyrex/yahmm/yahmm.c:31326)\n",
      "  File \"yahmm/yahmm.pyx\", line 1998, in genexpr (/home/etienne/.pyxbld/temp.linux-x86_64-3.4/pyrex/yahmm/yahmm.c:31223)\n",
      "  File \"yahmm/yahmm.pyx\", line 551, in yahmm.yahmm.PoissonDistribution.log_probability (/home/etienne/.pyxbld/temp.linux-x86_64-3.4/pyrex/yahmm/yahmm.c:9910)\n",
      "  File \"/home/etienne/anaconda3/lib/python3.4/site-packages/scipy/stats/_distn_infrastructure.py\", line 2862, in logpmf\n",
      "    place(output, cond, self._logpmf(*goodargs))\n",
      "  File \"/home/etienne/anaconda3/lib/python3.4/site-packages/numpy/lib/function_base.py\", line 1484, in place\n",
      "    return _insert(arr, mask, vals)\n",
      "KeyboardInterrupt\n",
      "Exception ignored in: 'yahmm.yahmm.Model._log_probability'\n",
      "Traceback (most recent call last):\n",
      "  File \"yahmm/yahmm.pyx\", line 2938, in yahmm.yahmm.Model.forward (/home/etienne/.pyxbld/temp.linux-x86_64-3.4/pyrex/yahmm/yahmm.c:45281)\n",
      "  File \"yahmm/yahmm.pyx\", line 2969, in yahmm.yahmm.Model._forward (/home/etienne/.pyxbld/temp.linux-x86_64-3.4/pyrex/yahmm/yahmm.c:45799)\n",
      "  File \"yahmm/yahmm.pyx\", line 1998, in yahmm.yahmm.MultivariateDistribution.log_probability (/home/etienne/.pyxbld/temp.linux-x86_64-3.4/pyrex/yahmm/yahmm.c:31326)\n",
      "  File \"yahmm/yahmm.pyx\", line 1998, in genexpr (/home/etienne/.pyxbld/temp.linux-x86_64-3.4/pyrex/yahmm/yahmm.c:31223)\n",
      "  File \"yahmm/yahmm.pyx\", line 551, in yahmm.yahmm.PoissonDistribution.log_probability (/home/etienne/.pyxbld/temp.linux-x86_64-3.4/pyrex/yahmm/yahmm.c:9910)\n",
      "  File \"/home/etienne/anaconda3/lib/python3.4/site-packages/scipy/stats/_distn_infrastructure.py\", line 2861, in logpmf\n",
      "    goodargs = argsreduce(cond, *((k,)+args))\n",
      "  File \"/home/etienne/anaconda3/lib/python3.4/site-packages/scipy/stats/_distn_infrastructure.py\", line 595, in argsreduce\n",
      "    return [np.extract(cond, arr1 * expand_arr) for arr1 in newargs]\n",
      "  File \"/home/etienne/anaconda3/lib/python3.4/site-packages/scipy/stats/_distn_infrastructure.py\", line 595, in <listcomp>\n",
      "    return [np.extract(cond, arr1 * expand_arr) for arr1 in newargs]\n",
      "  File \"/home/etienne/anaconda3/lib/python3.4/site-packages/numpy/lib/function_base.py\", line 1446, in extract\n",
      "    return _nx.take(ravel(arr), nonzero(ravel(condition))[0])\n",
      "  File \"/home/etienne/anaconda3/lib/python3.4/site-packages/numpy/core/fromnumeric.py\", line 1377, in ravel\n",
      "    return asarray(a).ravel(order)\n",
      "  File \"/home/etienne/anaconda3/lib/python3.4/site-packages/numpy/core/numeric.py\", line 462, in asarray\n",
      "    return array(a, dtype, copy=False, order=order)\n",
      "KeyboardInterrupt\n",
      "Exception ignored in: 'yahmm.yahmm.Model._log_probability'\n",
      "Traceback (most recent call last):\n",
      "  File \"yahmm/yahmm.pyx\", line 2938, in yahmm.yahmm.Model.forward (/home/etienne/.pyxbld/temp.linux-x86_64-3.4/pyrex/yahmm/yahmm.c:45281)\n",
      "  File \"yahmm/yahmm.pyx\", line 2969, in yahmm.yahmm.Model._forward (/home/etienne/.pyxbld/temp.linux-x86_64-3.4/pyrex/yahmm/yahmm.c:45799)\n",
      "  File \"yahmm/yahmm.pyx\", line 1998, in yahmm.yahmm.MultivariateDistribution.log_probability (/home/etienne/.pyxbld/temp.linux-x86_64-3.4/pyrex/yahmm/yahmm.c:31326)\n",
      "  File \"yahmm/yahmm.pyx\", line 1998, in genexpr (/home/etienne/.pyxbld/temp.linux-x86_64-3.4/pyrex/yahmm/yahmm.c:31223)\n",
      "  File \"yahmm/yahmm.pyx\", line 551, in yahmm.yahmm.PoissonDistribution.log_probability (/home/etienne/.pyxbld/temp.linux-x86_64-3.4/pyrex/yahmm/yahmm.c:9910)\n",
      "  File \"/home/etienne/anaconda3/lib/python3.4/site-packages/scipy/stats/_distn_infrastructure.py\", line 2861, in logpmf\n",
      "    goodargs = argsreduce(cond, *((k,)+args))\n",
      "  File \"/home/etienne/anaconda3/lib/python3.4/site-packages/scipy/stats/_distn_infrastructure.py\", line 570, in argsreduce\n",
      "    def argsreduce(cond, *args):\n",
      "KeyboardInterrupt\n",
      "Exception ignored in: 'yahmm.yahmm.Model._log_probability'\n",
      "Traceback (most recent call last):\n",
      "  File \"yahmm/yahmm.pyx\", line 2938, in yahmm.yahmm.Model.forward (/home/etienne/.pyxbld/temp.linux-x86_64-3.4/pyrex/yahmm/yahmm.c:45281)\n",
      "  File \"yahmm/yahmm.pyx\", line 2969, in yahmm.yahmm.Model._forward (/home/etienne/.pyxbld/temp.linux-x86_64-3.4/pyrex/yahmm/yahmm.c:45799)\n",
      "  File \"yahmm/yahmm.pyx\", line 1998, in yahmm.yahmm.MultivariateDistribution.log_probability (/home/etienne/.pyxbld/temp.linux-x86_64-3.4/pyrex/yahmm/yahmm.c:31326)\n",
      "  File \"yahmm/yahmm.pyx\", line 1998, in genexpr (/home/etienne/.pyxbld/temp.linux-x86_64-3.4/pyrex/yahmm/yahmm.c:31223)\n",
      "  File \"yahmm/yahmm.pyx\", line 551, in yahmm.yahmm.PoissonDistribution.log_probability (/home/etienne/.pyxbld/temp.linux-x86_64-3.4/pyrex/yahmm/yahmm.c:9910)\n",
      "  File \"/home/etienne/anaconda3/lib/python3.4/site-packages/scipy/stats/_distn_infrastructure.py\", line 2861, in logpmf\n",
      "    goodargs = argsreduce(cond, *((k,)+args))\n",
      "  File \"/home/etienne/anaconda3/lib/python3.4/site-packages/scipy/stats/_distn_infrastructure.py\", line 595, in argsreduce\n",
      "    return [np.extract(cond, arr1 * expand_arr) for arr1 in newargs]\n",
      "  File \"/home/etienne/anaconda3/lib/python3.4/site-packages/scipy/stats/_distn_infrastructure.py\", line 595, in <listcomp>\n",
      "    return [np.extract(cond, arr1 * expand_arr) for arr1 in newargs]\n",
      "KeyboardInterrupt\n",
      "Exception ignored in: 'yahmm.yahmm.Model._log_probability'\n",
      "Traceback (most recent call last):\n",
      "  File \"yahmm/yahmm.pyx\", line 2938, in yahmm.yahmm.Model.forward (/home/etienne/.pyxbld/temp.linux-x86_64-3.4/pyrex/yahmm/yahmm.c:45281)\n",
      "  File \"yahmm/yahmm.pyx\", line 2969, in yahmm.yahmm.Model._forward (/home/etienne/.pyxbld/temp.linux-x86_64-3.4/pyrex/yahmm/yahmm.c:45799)\n",
      "  File \"yahmm/yahmm.pyx\", line 1998, in yahmm.yahmm.MultivariateDistribution.log_probability (/home/etienne/.pyxbld/temp.linux-x86_64-3.4/pyrex/yahmm/yahmm.c:31326)\n",
      "  File \"yahmm/yahmm.pyx\", line 1998, in genexpr (/home/etienne/.pyxbld/temp.linux-x86_64-3.4/pyrex/yahmm/yahmm.c:31223)\n",
      "  File \"yahmm/yahmm.pyx\", line 551, in yahmm.yahmm.PoissonDistribution.log_probability (/home/etienne/.pyxbld/temp.linux-x86_64-3.4/pyrex/yahmm/yahmm.c:9910)\n",
      "  File \"/home/etienne/anaconda3/lib/python3.4/site-packages/scipy/stats/_distn_infrastructure.py\", line 2855, in logpmf\n",
      "    cond1 = (k >= self.a) & (k <= self.b) & self._nonzero(k, *args)\n",
      "KeyboardInterrupt\n",
      "Exception ignored in: 'yahmm.yahmm.Model._log_probability'\n",
      "Traceback (most recent call last):\n",
      "  File \"yahmm/yahmm.pyx\", line 2938, in yahmm.yahmm.Model.forward (/home/etienne/.pyxbld/temp.linux-x86_64-3.4/pyrex/yahmm/yahmm.c:45281)\n",
      "  File \"yahmm/yahmm.pyx\", line 2969, in yahmm.yahmm.Model._forward (/home/etienne/.pyxbld/temp.linux-x86_64-3.4/pyrex/yahmm/yahmm.c:45799)\n",
      "  File \"yahmm/yahmm.pyx\", line 1998, in yahmm.yahmm.MultivariateDistribution.log_probability (/home/etienne/.pyxbld/temp.linux-x86_64-3.4/pyrex/yahmm/yahmm.c:31326)\n",
      "  File \"yahmm/yahmm.pyx\", line 1998, in genexpr (/home/etienne/.pyxbld/temp.linux-x86_64-3.4/pyrex/yahmm/yahmm.c:31223)\n",
      "  File \"yahmm/yahmm.pyx\", line 551, in yahmm.yahmm.PoissonDistribution.log_probability (/home/etienne/.pyxbld/temp.linux-x86_64-3.4/pyrex/yahmm/yahmm.c:9910)\n",
      "  File \"/home/etienne/anaconda3/lib/python3.4/site-packages/scipy/stats/_distn_infrastructure.py\", line 2855, in logpmf\n",
      "    cond1 = (k >= self.a) & (k <= self.b) & self._nonzero(k, *args)\n",
      "KeyboardInterrupt\n",
      "Exception ignored in: "
     ]
    },
    {
     "name": "stdout",
     "output_type": "stream",
     "text": [
      "\n",
      "Training improvement: 0.0"
     ]
    },
    {
     "name": "stderr",
     "output_type": "stream",
     "text": [
      "'yahmm.yahmm.Model._log_probability'\n",
      "Traceback (most recent call last):\n",
      "  File \"yahmm/yahmm.pyx\", line 2938, in yahmm.yahmm.Model.forward (/home/etienne/.pyxbld/temp.linux-x86_64-3.4/pyrex/yahmm/yahmm.c:45281)\n",
      "  File \"yahmm/yahmm.pyx\", line 2969, in yahmm.yahmm.Model._forward (/home/etienne/.pyxbld/temp.linux-x86_64-3.4/pyrex/yahmm/yahmm.c:45799)\n",
      "  File \"yahmm/yahmm.pyx\", line 1998, in yahmm.yahmm.MultivariateDistribution.log_probability (/home/etienne/.pyxbld/temp.linux-x86_64-3.4/pyrex/yahmm/yahmm.c:31326)\n",
      "  File \"yahmm/yahmm.pyx\", line 1998, in genexpr (/home/etienne/.pyxbld/temp.linux-x86_64-3.4/pyrex/yahmm/yahmm.c:31223)\n",
      "  File \"yahmm/yahmm.pyx\", line 551, in yahmm.yahmm.PoissonDistribution.log_probability (/home/etienne/.pyxbld/temp.linux-x86_64-3.4/pyrex/yahmm/yahmm.c:9910)\n",
      "  File \"/home/etienne/anaconda3/lib/python3.4/site-packages/scipy/stats/_distn_infrastructure.py\", line 2861, in logpmf\n",
      "    goodargs = argsreduce(cond, *((k,)+args))\n",
      "  File \"/home/etienne/anaconda3/lib/python3.4/site-packages/scipy/stats/_distn_infrastructure.py\", line 591, in argsreduce\n",
      "    newargs = np.atleast_1d(*args)\n",
      "  File \"/home/etienne/anaconda3/lib/python3.4/site-packages/numpy/core/shape_base.py\", line 51, in atleast_1d\n",
      "    result = ary.reshape(1)\n",
      "KeyboardInterrupt\n",
      "Exception ignored in: 'yahmm.yahmm.Model._log_probability'\n",
      "Traceback (most recent call last):\n",
      "  File \"yahmm/yahmm.pyx\", line 2938, in yahmm.yahmm.Model.forward (/home/etienne/.pyxbld/temp.linux-x86_64-3.4/pyrex/yahmm/yahmm.c:45281)\n",
      "  File \"yahmm/yahmm.pyx\", line 2969, in yahmm.yahmm.Model._forward (/home/etienne/.pyxbld/temp.linux-x86_64-3.4/pyrex/yahmm/yahmm.c:45799)\n",
      "  File \"yahmm/yahmm.pyx\", line 1998, in yahmm.yahmm.MultivariateDistribution.log_probability (/home/etienne/.pyxbld/temp.linux-x86_64-3.4/pyrex/yahmm/yahmm.c:31326)\n",
      "  File \"yahmm/yahmm.pyx\", line 1998, in genexpr (/home/etienne/.pyxbld/temp.linux-x86_64-3.4/pyrex/yahmm/yahmm.c:31223)\n",
      "  File \"yahmm/yahmm.pyx\", line 551, in yahmm.yahmm.PoissonDistribution.log_probability (/home/etienne/.pyxbld/temp.linux-x86_64-3.4/pyrex/yahmm/yahmm.c:9910)\n",
      "  File \"/home/etienne/anaconda3/lib/python3.4/site-packages/scipy/stats/_distn_infrastructure.py\", line 2860, in logpmf\n",
      "    if any(cond):\n",
      "  File \"/home/etienne/anaconda3/lib/python3.4/site-packages/numpy/core/fromnumeric.py\", line 1848, in any\n",
      "    return arr.any(axis=axis, out=out, keepdims=keepdims)\n",
      "  File \"/home/etienne/anaconda3/lib/python3.4/site-packages/numpy/core/_methods.py\", line 38, in _any\n",
      "    return umr_any(a, axis, dtype, out, keepdims)\n",
      "KeyboardInterrupt: \n",
      "Exception ignored in: 'yahmm.yahmm.Model._log_probability'\n",
      "Traceback (most recent call last):\n",
      "  File \"yahmm/yahmm.pyx\", line 2938, in yahmm.yahmm.Model.forward (/home/etienne/.pyxbld/temp.linux-x86_64-3.4/pyrex/yahmm/yahmm.c:45281)\n",
      "  File \"yahmm/yahmm.pyx\", line 2969, in yahmm.yahmm.Model._forward (/home/etienne/.pyxbld/temp.linux-x86_64-3.4/pyrex/yahmm/yahmm.c:45799)\n",
      "  File \"yahmm/yahmm.pyx\", line 1998, in yahmm.yahmm.MultivariateDistribution.log_probability (/home/etienne/.pyxbld/temp.linux-x86_64-3.4/pyrex/yahmm/yahmm.c:31326)\n",
      "  File \"yahmm/yahmm.pyx\", line 1998, in genexpr (/home/etienne/.pyxbld/temp.linux-x86_64-3.4/pyrex/yahmm/yahmm.c:31223)\n",
      "  File \"yahmm/yahmm.pyx\", line 551, in yahmm.yahmm.PoissonDistribution.log_probability (/home/etienne/.pyxbld/temp.linux-x86_64-3.4/pyrex/yahmm/yahmm.c:9910)\n",
      "  File \"/home/etienne/anaconda3/lib/python3.4/site-packages/scipy/stats/_distn_infrastructure.py\", line 2860, in logpmf\n",
      "    if any(cond):\n",
      "  File \"/home/etienne/anaconda3/lib/python3.4/site-packages/numpy/core/fromnumeric.py\", line 1845, in any\n",
      "    arr = asanyarray(a)\n",
      "  File \"/home/etienne/anaconda3/lib/python3.4/site-packages/numpy/core/numeric.py\", line 514, in asanyarray\n",
      "    return array(a, dtype, copy=False, order=order, subok=True)\n",
      "KeyboardInterrupt\n",
      "Exception ignored in: 'yahmm.yahmm.Model._log_probability'\n",
      "Traceback (most recent call last):\n",
      "  File \"yahmm/yahmm.pyx\", line 2938, in yahmm.yahmm.Model.forward (/home/etienne/.pyxbld/temp.linux-x86_64-3.4/pyrex/yahmm/yahmm.c:45281)\n",
      "  File \"yahmm/yahmm.pyx\", line 2969, in yahmm.yahmm.Model._forward (/home/etienne/.pyxbld/temp.linux-x86_64-3.4/pyrex/yahmm/yahmm.c:45799)\n",
      "  File \"yahmm/yahmm.pyx\", line 1998, in yahmm.yahmm.MultivariateDistribution.log_probability (/home/etienne/.pyxbld/temp.linux-x86_64-3.4/pyrex/yahmm/yahmm.c:31326)\n",
      "  File \"yahmm/yahmm.pyx\", line 1998, in genexpr (/home/etienne/.pyxbld/temp.linux-x86_64-3.4/pyrex/yahmm/yahmm.c:31223)\n",
      "  File \"yahmm/yahmm.pyx\", line 551, in yahmm.yahmm.PoissonDistribution.log_probability (/home/etienne/.pyxbld/temp.linux-x86_64-3.4/pyrex/yahmm/yahmm.c:9910)\n",
      "  File \"/home/etienne/anaconda3/lib/python3.4/site-packages/scipy/stats/_distn_infrastructure.py\", line 2851, in logpmf\n",
      "    k, loc = map(asarray, (k, loc))\n",
      "KeyboardInterrupt\n",
      "Exception ignored in: 'yahmm.yahmm.Model._log_probability'\n",
      "Traceback (most recent call last):\n",
      "  File \"yahmm/yahmm.pyx\", line 2938, in yahmm.yahmm.Model.forward (/home/etienne/.pyxbld/temp.linux-x86_64-3.4/pyrex/yahmm/yahmm.c:45281)\n",
      "  File \"yahmm/yahmm.pyx\", line 2969, in yahmm.yahmm.Model._forward (/home/etienne/.pyxbld/temp.linux-x86_64-3.4/pyrex/yahmm/yahmm.c:45799)\n",
      "  File \"yahmm/yahmm.pyx\", line 1998, in yahmm.yahmm.MultivariateDistribution.log_probability (/home/etienne/.pyxbld/temp.linux-x86_64-3.4/pyrex/yahmm/yahmm.c:31326)\n",
      "  File \"yahmm/yahmm.pyx\", line 1998, in genexpr (/home/etienne/.pyxbld/temp.linux-x86_64-3.4/pyrex/yahmm/yahmm.c:31223)\n",
      "  File \"yahmm/yahmm.pyx\", line 551, in yahmm.yahmm.PoissonDistribution.log_probability (/home/etienne/.pyxbld/temp.linux-x86_64-3.4/pyrex/yahmm/yahmm.c:9910)\n",
      "  File \"/home/etienne/anaconda3/lib/python3.4/site-packages/scipy/stats/_distn_infrastructure.py\", line 2861, in logpmf\n",
      "    goodargs = argsreduce(cond, *((k,)+args))\n",
      "  File \"/home/etienne/anaconda3/lib/python3.4/site-packages/scipy/stats/_distn_infrastructure.py\", line 591, in argsreduce\n",
      "    newargs = np.atleast_1d(*args)\n",
      "  File \"/home/etienne/anaconda3/lib/python3.4/site-packages/numpy/core/shape_base.py\", line 51, in atleast_1d\n",
      "    result = ary.reshape(1)\n",
      "KeyboardInterrupt\n",
      "Exception ignored in: 'yahmm.yahmm.Model._log_probability'\n",
      "Traceback (most recent call last):\n",
      "  File \"yahmm/yahmm.pyx\", line 2938, in yahmm.yahmm.Model.forward (/home/etienne/.pyxbld/temp.linux-x86_64-3.4/pyrex/yahmm/yahmm.c:45281)\n",
      "  File \"yahmm/yahmm.pyx\", line 2969, in yahmm.yahmm.Model._forward (/home/etienne/.pyxbld/temp.linux-x86_64-3.4/pyrex/yahmm/yahmm.c:45799)\n",
      "  File \"yahmm/yahmm.pyx\", line 1998, in yahmm.yahmm.MultivariateDistribution.log_probability (/home/etienne/.pyxbld/temp.linux-x86_64-3.4/pyrex/yahmm/yahmm.c:31326)\n",
      "  File \"yahmm/yahmm.pyx\", line 1998, in genexpr (/home/etienne/.pyxbld/temp.linux-x86_64-3.4/pyrex/yahmm/yahmm.c:31223)\n",
      "  File \"yahmm/yahmm.pyx\", line 551, in yahmm.yahmm.PoissonDistribution.log_probability (/home/etienne/.pyxbld/temp.linux-x86_64-3.4/pyrex/yahmm/yahmm.c:9910)\n",
      "  File \"/home/etienne/anaconda3/lib/python3.4/site-packages/scipy/stats/_distn_infrastructure.py\", line 2861, in logpmf\n",
      "    goodargs = argsreduce(cond, *((k,)+args))\n",
      "  File \"/home/etienne/anaconda3/lib/python3.4/site-packages/scipy/stats/_distn_infrastructure.py\", line 595, in argsreduce\n",
      "    return [np.extract(cond, arr1 * expand_arr) for arr1 in newargs]\n",
      "  File \"/home/etienne/anaconda3/lib/python3.4/site-packages/scipy/stats/_distn_infrastructure.py\", line 595, in <listcomp>\n",
      "    return [np.extract(cond, arr1 * expand_arr) for arr1 in newargs]\n",
      "KeyboardInterrupt\n",
      "Exception ignored in: 'yahmm.yahmm.Model._log_probability'\n",
      "Traceback (most recent call last):\n",
      "  File \"yahmm/yahmm.pyx\", line 2938, in yahmm.yahmm.Model.forward (/home/etienne/.pyxbld/temp.linux-x86_64-3.4/pyrex/yahmm/yahmm.c:45281)\n",
      "  File \"yahmm/yahmm.pyx\", line 2969, in yahmm.yahmm.Model._forward (/home/etienne/.pyxbld/temp.linux-x86_64-3.4/pyrex/yahmm/yahmm.c:45799)\n",
      "  File \"yahmm/yahmm.pyx\", line 1998, in yahmm.yahmm.MultivariateDistribution.log_probability (/home/etienne/.pyxbld/temp.linux-x86_64-3.4/pyrex/yahmm/yahmm.c:31326)\n",
      "  File \"yahmm/yahmm.pyx\", line 1998, in genexpr (/home/etienne/.pyxbld/temp.linux-x86_64-3.4/pyrex/yahmm/yahmm.c:31223)\n",
      "  File \"yahmm/yahmm.pyx\", line 551, in yahmm.yahmm.PoissonDistribution.log_probability (/home/etienne/.pyxbld/temp.linux-x86_64-3.4/pyrex/yahmm/yahmm.c:9910)\n",
      "  File \"/home/etienne/anaconda3/lib/python3.4/site-packages/scipy/stats/_distn_infrastructure.py\", line 2850, in logpmf\n",
      "    args, loc, _ = self._parse_args(*args, **kwds)\n",
      "  File \"<string>\", line 2, in _parse_args\n",
      "KeyboardInterrupt\n",
      "Exception ignored in: 'yahmm.yahmm.Model._log_probability'\n",
      "Traceback (most recent call last):\n",
      "  File \"yahmm/yahmm.pyx\", line 2938, in yahmm.yahmm.Model.forward (/home/etienne/.pyxbld/temp.linux-x86_64-3.4/pyrex/yahmm/yahmm.c:45281)\n",
      "  File \"yahmm/yahmm.pyx\", line 2969, in yahmm.yahmm.Model._forward (/home/etienne/.pyxbld/temp.linux-x86_64-3.4/pyrex/yahmm/yahmm.c:45799)\n",
      "  File \"yahmm/yahmm.pyx\", line 1998, in yahmm.yahmm.MultivariateDistribution.log_probability (/home/etienne/.pyxbld/temp.linux-x86_64-3.4/pyrex/yahmm/yahmm.c:31326)\n",
      "  File \"yahmm/yahmm.pyx\", line 1998, in genexpr (/home/etienne/.pyxbld/temp.linux-x86_64-3.4/pyrex/yahmm/yahmm.c:31223)\n",
      "  File \"yahmm/yahmm.pyx\", line 551, in yahmm.yahmm.PoissonDistribution.log_probability (/home/etienne/.pyxbld/temp.linux-x86_64-3.4/pyrex/yahmm/yahmm.c:9910)\n",
      "  File \"/home/etienne/anaconda3/lib/python3.4/site-packages/scipy/stats/_distn_infrastructure.py\", line 2855, in logpmf\n",
      "    cond1 = (k >= self.a) & (k <= self.b) & self._nonzero(k, *args)\n",
      "KeyboardInterrupt\n",
      "Exception ignored in: 'yahmm.yahmm.Model._log_probability'\n",
      "Traceback (most recent call last):\n",
      "  File \"yahmm/yahmm.pyx\", line 2938, in yahmm.yahmm.Model.forward (/home/etienne/.pyxbld/temp.linux-x86_64-3.4/pyrex/yahmm/yahmm.c:45281)\n",
      "  File \"yahmm/yahmm.pyx\", line 2969, in yahmm.yahmm.Model._forward (/home/etienne/.pyxbld/temp.linux-x86_64-3.4/pyrex/yahmm/yahmm.c:45799)\n",
      "  File \"yahmm/yahmm.pyx\", line 1998, in yahmm.yahmm.MultivariateDistribution.log_probability (/home/etienne/.pyxbld/temp.linux-x86_64-3.4/pyrex/yahmm/yahmm.c:31326)\n",
      "  File \"yahmm/yahmm.pyx\", line 1998, in genexpr (/home/etienne/.pyxbld/temp.linux-x86_64-3.4/pyrex/yahmm/yahmm.c:31223)\n",
      "  File \"yahmm/yahmm.pyx\", line 551, in yahmm.yahmm.PoissonDistribution.log_probability (/home/etienne/.pyxbld/temp.linux-x86_64-3.4/pyrex/yahmm/yahmm.c:9910)\n",
      "  File \"/home/etienne/anaconda3/lib/python3.4/site-packages/scipy/stats/_distn_infrastructure.py\", line 2861, in logpmf\n",
      "    goodargs = argsreduce(cond, *((k,)+args))\n",
      "  File \"/home/etienne/anaconda3/lib/python3.4/site-packages/scipy/stats/_distn_infrastructure.py\", line 595, in argsreduce\n",
      "    return [np.extract(cond, arr1 * expand_arr) for arr1 in newargs]\n",
      "  File \"/home/etienne/anaconda3/lib/python3.4/site-packages/scipy/stats/_distn_infrastructure.py\", line 595, in <listcomp>\n",
      "    return [np.extract(cond, arr1 * expand_arr) for arr1 in newargs]\n",
      "KeyboardInterrupt\n",
      "Exception ignored in: 'yahmm.yahmm.Model._log_probability'\n",
      "Traceback (most recent call last):\n",
      "  File \"yahmm/yahmm.pyx\", line 2938, in yahmm.yahmm.Model.forward (/home/etienne/.pyxbld/temp.linux-x86_64-3.4/pyrex/yahmm/yahmm.c:45281)\n",
      "  File \"yahmm/yahmm.pyx\", line 2969, in yahmm.yahmm.Model._forward (/home/etienne/.pyxbld/temp.linux-x86_64-3.4/pyrex/yahmm/yahmm.c:45799)\n",
      "  File \"yahmm/yahmm.pyx\", line 1998, in yahmm.yahmm.MultivariateDistribution.log_probability (/home/etienne/.pyxbld/temp.linux-x86_64-3.4/pyrex/yahmm/yahmm.c:31326)\n",
      "  File \"yahmm/yahmm.pyx\", line 1998, in genexpr (/home/etienne/.pyxbld/temp.linux-x86_64-3.4/pyrex/yahmm/yahmm.c:31223)\n",
      "  File \"yahmm/yahmm.pyx\", line 551, in yahmm.yahmm.PoissonDistribution.log_probability (/home/etienne/.pyxbld/temp.linux-x86_64-3.4/pyrex/yahmm/yahmm.c:9910)\n",
      "  File \"/home/etienne/anaconda3/lib/python3.4/site-packages/scipy/stats/_distn_infrastructure.py\", line 2861, in logpmf\n",
      "    goodargs = argsreduce(cond, *((k,)+args))\n",
      "  File \"/home/etienne/anaconda3/lib/python3.4/site-packages/scipy/stats/_distn_infrastructure.py\", line 595, in argsreduce\n",
      "    return [np.extract(cond, arr1 * expand_arr) for arr1 in newargs]\n",
      "KeyboardInterrupt\n",
      "Exception ignored in: "
     ]
    },
    {
     "name": "stdout",
     "output_type": "stream",
     "text": [
      "\n",
      "('Total Training Improvement: ', 317.9429543993786)\n"
     ]
    },
    {
     "name": "stderr",
     "output_type": "stream",
     "text": [
      "'yahmm.yahmm.Model._log_probability'\n",
      "Traceback (most recent call last):\n",
      "  File \"yahmm/yahmm.pyx\", line 2938, in yahmm.yahmm.Model.forward (/home/etienne/.pyxbld/temp.linux-x86_64-3.4/pyrex/yahmm/yahmm.c:45281)\n",
      "  File \"yahmm/yahmm.pyx\", line 2969, in yahmm.yahmm.Model._forward (/home/etienne/.pyxbld/temp.linux-x86_64-3.4/pyrex/yahmm/yahmm.c:45799)\n",
      "  File \"yahmm/yahmm.pyx\", line 1998, in yahmm.yahmm.MultivariateDistribution.log_probability (/home/etienne/.pyxbld/temp.linux-x86_64-3.4/pyrex/yahmm/yahmm.c:31326)\n",
      "  File \"yahmm/yahmm.pyx\", line 1998, in genexpr (/home/etienne/.pyxbld/temp.linux-x86_64-3.4/pyrex/yahmm/yahmm.c:31223)\n",
      "  File \"yahmm/yahmm.pyx\", line 551, in yahmm.yahmm.PoissonDistribution.log_probability (/home/etienne/.pyxbld/temp.linux-x86_64-3.4/pyrex/yahmm/yahmm.c:9910)\n",
      "  File \"/home/etienne/anaconda3/lib/python3.4/site-packages/scipy/stats/_distn_infrastructure.py\", line 2861, in logpmf\n",
      "    goodargs = argsreduce(cond, *((k,)+args))\n",
      "  File \"/home/etienne/anaconda3/lib/python3.4/site-packages/scipy/stats/_distn_infrastructure.py\", line 595, in argsreduce\n",
      "    return [np.extract(cond, arr1 * expand_arr) for arr1 in newargs]\n",
      "  File \"/home/etienne/anaconda3/lib/python3.4/site-packages/scipy/stats/_distn_infrastructure.py\", line 595, in <listcomp>\n",
      "    return [np.extract(cond, arr1 * expand_arr) for arr1 in newargs]\n",
      "KeyboardInterrupt\n"
     ]
    }
   ],
   "source": [
    "hmm8_1 = train_hmm(hmm8_1,BVR_train1,num_sequences=80)"
   ]
  },
  {
   "cell_type": "code",
   "execution_count": null,
   "metadata": {
    "collapsed": false
   },
   "outputs": [],
   "source": [
    "#num_sequences = len(SWR_train1)\n",
    "num_sequences = 80\n",
    "\n",
    "#before_training_log_prob = [ swrhmm8_1.log_probability( SWR_train1[a] ) for a in range(len(SWR_train1[:num_sequences])) ]\n",
    "#print( 'average log probability of sequences BEFORE training: ' + str( np.average(before_training_log_prob) ) )\n",
    "\n",
    "swrhmm8_1.train( SWR_train1[:num_sequences], algorithm='baum-welch', verbose=True )\n",
    "\n",
    "#after_training_log_prob = [ swrhmm8_1.log_probability( SWR_train1[a] ) for a in range(len(SWR_train1[:num_sequences])) ]\n",
    "#print( 'average log probability of sequences AFTER training: ' + str( np.average(after_training_log_prob) ) )\n"
   ]
  },
  {
   "cell_type": "code",
   "execution_count": null,
   "metadata": {
    "collapsed": false
   },
   "outputs": [],
   "source": [
    "sns.set(rc={'figure.figsize': (12, 4),'lines.linewidth': 3, 'font.size': 16, 'axes.labelsize': 14, 'legend.fontsize': 12, 'ytick.labelsize': 12, 'xtick.labelsize': 12 })\n",
    "sns.set_style(\"white\")\n",
    "f, (ax1, ax2) = plt.subplots(1,2)\n",
    "\n",
    "sns.distplot( before_training_log_prob, bins=20, hist=True, kde=True, rug=False, axlabel='log probability', ax=ax1 );\n",
    "sns.distplot( after_training_log_prob, bins=20, hist=True, kde=True, rug=False, axlabel='log probability', ax=ax2 );\n",
    "\n",
    "ax1.set_title(\"Before training\")\n",
    "ax2.set_title(\"After training\")\n",
    "plt.suptitle(\"Effect of training on SWR-spike events, m={0}; swr-hmm8-1\".format(num_states), y=1.05, fontsize=16)\n",
    "\n",
    "plt.tight_layout()\n",
    "\n",
    "#saveFigure(\"figures/swr-hmm8-1rn-training.pdf\")\n"
   ]
  },
  {
   "cell_type": "markdown",
   "metadata": {},
   "source": [
    "Train SWR-HMM8_2 on a small subset of the training data:"
   ]
  },
  {
   "cell_type": "code",
   "execution_count": null,
   "metadata": {
    "collapsed": false
   },
   "outputs": [],
   "source": [
    "num_sequences = 80\n",
    "#num_sequences = len(SWR_train2)\n",
    "\n",
    "#before_training_log_prob = [ swrhmm8_2.log_probability( SWR_train2[a] ) for a in range(len(SWR_train2[:num_sequences])) ]\n",
    "#print( 'average log probability of sequences BEFORE training: ' + str( np.average(before_training_log_prob) ) )\n",
    "\n",
    "swrhmm8_2.train( SWR_train2[:num_sequences], algorithm='baum-welch', verbose=True )\n",
    "\n",
    "#after_training_log_prob = [ swrhmm8_2.log_probability( SWR_train2[a] ) for a in range(len(SWR_train2[:num_sequences])) ]\n",
    "#print( 'average log probability of sequences AFTER training: ' + str( np.average(after_training_log_prob) ) )\n"
   ]
  },
  {
   "cell_type": "markdown",
   "metadata": {},
   "source": [
    "## Train m=8, m=10 and m=15 state models on subset of sequences:"
   ]
  },
  {
   "cell_type": "code",
   "execution_count": null,
   "metadata": {
    "collapsed": false
   },
   "outputs": [],
   "source": [
    "num_sequences = 80\n",
    "\n",
    "hmm8_1.train( BVR_train1[:num_sequences], algorithm='baum-welch', verbose=True )"
   ]
  },
  {
   "cell_type": "code",
   "execution_count": null,
   "metadata": {
    "collapsed": false
   },
   "outputs": [],
   "source": [
    "hmm8_2.train( BVR_train2[:num_sequences], algorithm='baum-welch', verbose=True )"
   ]
  },
  {
   "cell_type": "code",
   "execution_count": null,
   "metadata": {
    "collapsed": false
   },
   "outputs": [],
   "source": [
    "swrhmm8_1.train( SWR_train1[:num_sequences], algorithm='baum-welch', verbose=True )"
   ]
  },
  {
   "cell_type": "code",
   "execution_count": null,
   "metadata": {
    "collapsed": false
   },
   "outputs": [],
   "source": [
    "swrhmm8_2.train( SWR_train2[:num_sequences], algorithm='baum-welch', verbose=True )"
   ]
  },
  {
   "cell_type": "code",
   "execution_count": null,
   "metadata": {
    "collapsed": false
   },
   "outputs": [],
   "source": [
    "hmm10_1.train( BVR_train1[:num_sequences], algorithm='baum-welch', verbose=True )"
   ]
  },
  {
   "cell_type": "code",
   "execution_count": null,
   "metadata": {
    "collapsed": false
   },
   "outputs": [],
   "source": [
    "hmm10_2.train( BVR_train2[:num_sequences], algorithm='baum-welch', verbose=True )"
   ]
  },
  {
   "cell_type": "code",
   "execution_count": null,
   "metadata": {
    "collapsed": false
   },
   "outputs": [],
   "source": [
    "swrhmm10_1.train( SWR_train1[:num_sequences], algorithm='baum-welch', verbose=True )"
   ]
  },
  {
   "cell_type": "code",
   "execution_count": null,
   "metadata": {
    "collapsed": false
   },
   "outputs": [],
   "source": [
    "swrhmm10_2.train( SWR_train2[:num_sequences], algorithm='baum-welch', verbose=True )"
   ]
  },
  {
   "cell_type": "markdown",
   "metadata": {},
   "source": [
    "## Investigate a few things on the trained model...\n",
    "\n",
    "* Look at the state transition probability matrix (but it seems like YAHMM does not report this correctly...?)\n",
    "* Look to see if we can infer the most likely sequence of states for a particular sequence\n",
    "* Look to see if the log-probability of the sequence in (2) changes if we shuffle the observations, which would give us confidence that the model has at least captured **some** sequential information from the data\n",
    "* Look at the tuning curves (or firing rates) of the different states---this does not seem trivial with YAHMM"
   ]
  },
  {
   "cell_type": "code",
   "execution_count": null,
   "metadata": {
    "collapsed": false,
    "scrolled": true
   },
   "outputs": [],
   "source": [
    "hmm8_1.dense_transition_matrix().shape"
   ]
  },
  {
   "cell_type": "code",
   "execution_count": null,
   "metadata": {
    "collapsed": false
   },
   "outputs": [],
   "source": [
    "# find the log probability of the \"best\" length N sequence:\n",
    "def best_state_sequence(ymModel,Nstates):\n",
    "    logP = ymModel.dense_transition_matrix()\n",
    "    N = Nstates\n",
    "    \n",
    "    statelist = [ymModel.start_index]\n",
    "    logPij = [np.log(1 / (ymModel.state_count() - 2)) ] # assume each starting location equally likely\n",
    "    for ii in np.arange(0,N):\n",
    "        nextstate = list(logP[statelist[-1],:]).index(max(logP[statelist[-1],:]))\n",
    "        statelist.append(nextstate)\n",
    "        logPij.append(logP[statelist[-2],statelist[-1]])\n",
    "\n",
    "    lpbest = np.array(logPij).sum()\n",
    "    \n",
    "    return lpbest, statelist, logPij"
   ]
  },
  {
   "cell_type": "code",
   "execution_count": null,
   "metadata": {
    "collapsed": false
   },
   "outputs": [],
   "source": [
    "lpbest, statelist, Pij = best_state_sequence(hmm15_1,5)\n",
    "lpbest"
   ]
  },
  {
   "cell_type": "code",
   "execution_count": null,
   "metadata": {
    "collapsed": false
   },
   "outputs": [],
   "source": [
    "import copy\n",
    "cand_seq = copy.deepcopy(BVR_train1[0])\n",
    "lp, mlse_pth = hmm8_1.viterbi(cand_seq)\n",
    "lp"
   ]
  },
  {
   "cell_type": "code",
   "execution_count": null,
   "metadata": {
    "collapsed": false
   },
   "outputs": [],
   "source": [
    "mlse_pth"
   ]
  },
  {
   "cell_type": "code",
   "execution_count": null,
   "metadata": {
    "collapsed": true
   },
   "outputs": [],
   "source": [
    "shuffled_seq = copy.deepcopy(cand_seq)\n",
    "random.shuffle(shuffled_seq)\n",
    "lp_shfl, mlse_pth_shfl = hmm8_1.viterbi(shuffled_seq)"
   ]
  },
  {
   "cell_type": "code",
   "execution_count": null,
   "metadata": {
    "collapsed": false
   },
   "outputs": [],
   "source": [
    "[lp, lp_shfl] # shows that sequence DOES matter!"
   ]
  },
  {
   "cell_type": "code",
   "execution_count": null,
   "metadata": {
    "collapsed": false
   },
   "outputs": [],
   "source": [
    "mlse_pth_shfl"
   ]
  },
  {
   "cell_type": "code",
   "execution_count": 6,
   "metadata": {
    "collapsed": false
   },
   "outputs": [
    {
     "ename": "NameError",
     "evalue": "name 'cand_seq' is not defined",
     "output_type": "error",
     "traceback": [
      "\u001b[1;31m---------------------------------------------------------------------------\u001b[0m",
      "\u001b[1;31mNameError\u001b[0m                                 Traceback (most recent call last)",
      "\u001b[1;32m<ipython-input-6-2132941fedfe>\u001b[0m in \u001b[0;36m<module>\u001b[1;34m()\u001b[0m\n\u001b[0;32m      1\u001b[0m \u001b[1;31m# Random sequence of lengh L through model, along with log-prob:\u001b[0m\u001b[1;33m\u001b[0m\u001b[1;33m\u001b[0m\u001b[0m\n\u001b[1;32m----> 2\u001b[1;33m \u001b[0mseq\u001b[0m\u001b[1;33m,\u001b[0m \u001b[0mpth\u001b[0m \u001b[1;33m=\u001b[0m \u001b[0mhmm8_1\u001b[0m\u001b[1;33m.\u001b[0m\u001b[0msample\u001b[0m\u001b[1;33m(\u001b[0m\u001b[0mlength\u001b[0m\u001b[1;33m=\u001b[0m\u001b[0mlen\u001b[0m\u001b[1;33m(\u001b[0m\u001b[0mcand_seq\u001b[0m\u001b[1;33m)\u001b[0m\u001b[1;33m,\u001b[0m \u001b[0mpath\u001b[0m\u001b[1;33m=\u001b[0m\u001b[1;32mTrue\u001b[0m\u001b[1;33m)\u001b[0m\u001b[1;33m\u001b[0m\u001b[0m\n\u001b[0m\u001b[0;32m      3\u001b[0m \u001b[0mlprand\u001b[0m\u001b[1;33m,\u001b[0m \u001b[0mpth_best\u001b[0m \u001b[1;33m=\u001b[0m \u001b[0mhmm8_1\u001b[0m\u001b[1;33m.\u001b[0m\u001b[0mviterbi\u001b[0m\u001b[1;33m(\u001b[0m\u001b[0mseq\u001b[0m\u001b[1;33m)\u001b[0m\u001b[1;33m\u001b[0m\u001b[0m\n\u001b[0;32m      4\u001b[0m \u001b[0mlprand\u001b[0m\u001b[1;33m\u001b[0m\u001b[0m\n",
      "\u001b[1;31mNameError\u001b[0m: name 'cand_seq' is not defined"
     ]
    }
   ],
   "source": [
    "# Random sequence of lengh L through model, along with log-prob:\n",
    "seq, pth = hmm8_1.sample(length=len(cand_seq), path=True)\n",
    "lprand, pth_best = hmm8_1.viterbi(seq)\n",
    "lprand"
   ]
  },
  {
   "cell_type": "code",
   "execution_count": null,
   "metadata": {
    "collapsed": false
   },
   "outputs": [],
   "source": [
    "# \"Best\" sequence of lengh L through model, along with log-prob:\n",
    "lpbest, statelist, Pij = best_state_sequence(hmm8_1,len(seq))\n",
    "lpbest"
   ]
  },
  {
   "cell_type": "code",
   "execution_count": 5,
   "metadata": {
    "collapsed": false
   },
   "outputs": [
    {
     "name": "stdout",
     "output_type": "stream",
     "text": [
      "State( MultivariateDistribution(<map object at 0x7f7a05d2c940>), name=140163190718592, weight=1.0, identity=140162124974984 )\n"
     ]
    }
   ],
   "source": [
    "print(hmm8_1.states[1])"
   ]
  },
  {
   "cell_type": "markdown",
   "metadata": {},
   "source": [
    "## Continue analysis here"
   ]
  },
  {
   "cell_type": "code",
   "execution_count": 10,
   "metadata": {
    "collapsed": false
   },
   "outputs": [],
   "source": [
    "num_sequences = 60\n",
    "seq1_in_model1_log_prob_test = [ hmm8_1.log_probability( SWR_test1[a] ) for a in range(len(SWR_test1[:num_sequences])) ]\n",
    "seq2_in_model2_log_prob_test = [ hmm8_2.log_probability( SWR_test2[a] ) for a in range(len(SWR_test2[:num_sequences])) ]\n",
    "seq2_in_model1_log_prob_test = [ hmm8_1.log_probability( SWR_test2[a] ) for a in range(len(SWR_test2[:num_sequences])) ]\n",
    "seq1_in_model2_log_prob_test = [ hmm8_2.log_probability( SWR_test1[a] ) for a in range(len(SWR_test1[:num_sequences])) ]\n",
    "\n",
    "# note: log odds = log(P1/P2) = logP1 - logP2:\n",
    "seq2_ratio_test = [seq2_in_model1_log_prob_test[i] - seq2_in_model2_log_prob_test[i] for i in range(len(seq2_in_model1_log_prob_test)) ]\n",
    "seq1_ratio_test = [seq1_in_model1_log_prob_test[i] - seq1_in_model2_log_prob_test[i] for i in range(len(seq1_in_model1_log_prob_test)) ]\n"
   ]
  },
  {
   "cell_type": "code",
   "execution_count": 12,
   "metadata": {
    "collapsed": false
   },
   "outputs": [
    {
     "name": "stdout",
     "output_type": "stream",
     "text": [
      "Saving figure to 'figures/logodds-xross-swr-in-bvr-m8.pdf'...\n",
      "Done\n"
     ]
    },
    {
     "data": {
      "image/png": "[encoded data removed]",
      "text/plain": [
       "<matplotlib.figure.Figure at 0x7f7a092b3d30>"
      ]
     },
     "metadata": {},
     "output_type": "display_data"
    }
   ],
   "source": [
    "sns.set(rc={'figure.figsize': (6, 4),'lines.linewidth': 3, 'font.size': 16, 'axes.labelsize': 14, 'legend.fontsize': 12, 'ytick.labelsize': 12, 'xtick.labelsize': 12 })\n",
    "sns.set_style(\"white\")\n",
    "f, ( ax1 ) = plt.subplots(1,1)\n",
    "\n",
    "sns.distplot( seq1_ratio_test, bins=20, hist=True, kde=True, axlabel='log odds', ax=ax1, kde_kws={\"lw\": 3, \"label\": \"log p(Y=1|e=1)/p(Y=1|e=2)\"} );\n",
    "sns.distplot( seq2_ratio_test, bins=20, hist=True, kde=True, axlabel='log odds', ax=ax1, kde_kws={\"lw\": 3, \"label\": \"log p(Y=2|e=1)/p(Y=2|e=2)\"} );\n",
    "ax1.set_title(\"log odds of SWR sequences in BVR model, m=8\",fontsize=14)\n",
    "\n",
    "#saveFigure(\"figures/logodds-xross-swr-in-bvr-m8.pdf\")"
   ]
  },
  {
   "cell_type": "code",
   "execution_count": 43,
   "metadata": {
    "collapsed": true
   },
   "outputs": [],
   "source": [
    "num_sequences = 60\n",
    "seq1_in_model1_log_prob_test = [ swrhmm8_1.log_probability( SWR_test1[a] ) for a in range(len(SWR_test1[:num_sequences])) ]\n",
    "seq2_in_model2_log_prob_test = [ swrhmm8_2.log_probability( SWR_test2[a] ) for a in range(len(SWR_test2[:num_sequences])) ]\n",
    "seq2_in_model1_log_prob_test = [ swrhmm8_1.log_probability( SWR_test2[a] ) for a in range(len(SWR_test2[:num_sequences])) ]\n",
    "seq1_in_model2_log_prob_test = [ swrhmm8_2.log_probability( SWR_test1[a] ) for a in range(len(SWR_test1[:num_sequences])) ]\n",
    "\n",
    "# note: log odds = log(P1/P2) = logP1 - logP2:\n",
    "seq2_ratio_test = [seq2_in_model1_log_prob_test[i] - seq2_in_model2_log_prob_test[i] for i in range(len(seq2_in_model1_log_prob_test)) ]\n",
    "seq1_ratio_test = [seq1_in_model1_log_prob_test[i] - seq1_in_model2_log_prob_test[i] for i in range(len(seq1_in_model1_log_prob_test)) ]\n"
   ]
  },
  {
   "cell_type": "code",
   "execution_count": 47,
   "metadata": {
    "collapsed": false
   },
   "outputs": [
    {
     "name": "stdout",
     "output_type": "stream",
     "text": [
      "Saving figure to 'figures/logodds-swr-in-swr-m8-new.pdf'...\n",
      "Done\n"
     ]
    },
    {
     "data": {
      "image/png": "[encoded data removed]",
      "text/plain": [
       "<matplotlib.figure.Figure at 0x7f7a05f22748>"
      ]
     },
     "metadata": {},
     "output_type": "display_data"
    }
   ],
   "source": [
    "sns.set(rc={'figure.figsize': (6, 4),'lines.linewidth': 3, 'font.size': 16, 'axes.labelsize': 14, 'legend.fontsize': 12, 'ytick.labelsize': 12, 'xtick.labelsize': 12 })\n",
    "sns.set_style(\"white\")\n",
    "f, ( ax1 ) = plt.subplots(1,1)\n",
    "\n",
    "sns.distplot( seq1_ratio_test, bins=20, hist=False, kde=True, axlabel='log odds', ax=ax1, kde_kws={\"lw\": 3, \"label\": \"log p(Y=1|e=1)/p(Y=1|e=2)\"} );\n",
    "sns.distplot( seq2_ratio_test, bins=20, hist=False, kde=True, axlabel='log odds', ax=ax1, kde_kws={\"lw\": 3, \"label\": \"log p(Y=2|e=1)/p(Y=2|e=2)\"} );\n",
    "ax1.set_title(\"log odds of SWR sequences in SWR model, m=8\",fontsize=14)\n",
    "\n",
    "#saveFigure(\"figures/logodds-swr-in-swr-m8-new.pdf\")"
   ]
  },
  {
   "cell_type": "code",
   "execution_count": 9,
   "metadata": {
    "collapsed": false
   },
   "outputs": [],
   "source": [
    "num_sequences = 60\n",
    "seq1_in_model1_log_prob_test = [ swrhmm8_1.log_probability( BVR_test1[a] ) for a in range(len(BVR_test1[:num_sequences])) ]\n",
    "seq2_in_model2_log_prob_test = [ swrhmm8_2.log_probability( BVR_test2[a] ) for a in range(len(BVR_test2[:num_sequences])) ]\n",
    "seq2_in_model1_log_prob_test = [ swrhmm8_1.log_probability( BVR_test2[a] ) for a in range(len(BVR_test2[:num_sequences])) ]\n",
    "seq1_in_model2_log_prob_test = [ swrhmm8_2.log_probability( BVR_test1[a] ) for a in range(len(BVR_test1[:num_sequences])) ]\n",
    "\n",
    "seq2_ratio_test = [seq2_in_model1_log_prob_test[i] - seq2_in_model2_log_prob_test[i] for i in range(len(seq2_in_model1_log_prob_test)) ]\n",
    "seq1_ratio_test = [seq1_in_model1_log_prob_test[i] - seq1_in_model2_log_prob_test[i] for i in range(len(seq1_in_model1_log_prob_test)) ]\n"
   ]
  },
  {
   "cell_type": "code",
   "execution_count": null,
   "metadata": {
    "collapsed": false
   },
   "outputs": [],
   "source": [
    "sns.set(rc={'figure.figsize': (6, 4),'lines.linewidth': 3, 'font.size': 16, 'axes.labelsize': 14, 'legend.fontsize': 12, 'ytick.labelsize': 12, 'xtick.labelsize': 12 })\n",
    "sns.set_style(\"white\")\n",
    "f, ( ax1 ) = plt.subplots(1,1)\n",
    "\n",
    "sns.distplot( seq1_ratio_test, bins=20, hist=True, kde=True, axlabel='log odds', ax=ax1, kde_kws={\"lw\": 3, \"label\": \"log p(Y=1|e=1)/p(Y=1|e=2)\"} );\n",
    "sns.distplot( seq2_ratio_test, bins=20, hist=True, kde=True, axlabel='log odds', ax=ax1, kde_kws={\"lw\": 3, \"label\": \"log p(Y=2|e=1)/p(Y=2|e=2)\"} );\n",
    "ax1.set_title(\"log odds of BVR sequences in SWR model, m=8\",fontsize=14)\n",
    "\n",
    "#saveFigure(\"figures/logodds-xross-bvr-in-swr-m8.pdf\")"
   ]
  },
  {
   "cell_type": "code",
   "execution_count": null,
   "metadata": {
    "collapsed": false
   },
   "outputs": [],
   "source": [
    "num_sequences = 60\n",
    "seq1_in_model1_log_prob_test = [ swrhmm15_1.log_probability( BVR_test1[a] ) for a in range(len(BVR_test1[:num_sequences])) ]\n",
    "seq2_in_model2_log_prob_test = [ swrhmm15_2.log_probability( BVR_test2[a] ) for a in range(len(BVR_test2[:num_sequences])) ]\n",
    "seq2_in_model1_log_prob_test = [ swrhmm15_1.log_probability( BVR_test2[a] ) for a in range(len(BVR_test2[:num_sequences])) ]\n",
    "seq1_in_model2_log_prob_test = [ swrhmm15_2.log_probability( BVR_test1[a] ) for a in range(len(BVR_test1[:num_sequences])) ]\n",
    "\n",
    "seq2_ratio_test = [seq2_in_model1_log_prob_test[i] - seq2_in_model2_log_prob_test[i] for i in range(len(seq2_in_model1_log_prob_test)) ]\n",
    "seq1_ratio_test = [seq1_in_model1_log_prob_test[i] - seq1_in_model2_log_prob_test[i] for i in range(len(seq1_in_model1_log_prob_test)) ]\n"
   ]
  },
  {
   "cell_type": "code",
   "execution_count": null,
   "metadata": {
    "collapsed": false
   },
   "outputs": [],
   "source": [
    "sns.set(rc={'figure.figsize': (6, 4),'lines.linewidth': 3, 'font.size': 16, 'axes.labelsize': 14, 'legend.fontsize': 12, 'ytick.labelsize': 12, 'xtick.labelsize': 12 })\n",
    "sns.set_style(\"white\")\n",
    "f, ( ax1 ) = plt.subplots(1,1)\n",
    "\n",
    "sns.distplot( seq1_ratio_test, bins=20, hist=True, kde=True, axlabel='log odds', ax=ax1, kde_kws={\"lw\": 3, \"label\": \"log p(Y=1|e=1)/p(Y=1|e=2)\"} );\n",
    "sns.distplot( seq2_ratio_test, bins=20, hist=True, kde=True, axlabel='log odds', ax=ax1, kde_kws={\"lw\": 3, \"label\": \"log p(Y=2|e=1)/p(Y=2|e=2)\"} );\n",
    "ax1.set_title(\"log odds of BVR sequences in SWR model, m=15\",fontsize=14)\n",
    "\n",
    "saveFigure(\"figures/logodds-xross-bvr-in-swr-m15.pdf\")"
   ]
  },
  {
   "cell_type": "markdown",
   "metadata": {},
   "source": [
    "## Look for SWR1 in ENV2 and SW2 in ENV1"
   ]
  },
  {
   "cell_type": "code",
   "execution_count": 13,
   "metadata": {
    "collapsed": false,
    "scrolled": true
   },
   "outputs": [],
   "source": [
    "num_sequences = 60\n",
    "bvr1_in_bvr1_log_prob_test = [ hmm8_1.log_probability( BVR_test1[a] ) for a in range(len(BVR_test1[:num_sequences])) ]\n",
    "bvr2_in_bvr2_log_prob_test = [ hmm8_2.log_probability( BVR_test2[a] ) for a in range(len(BVR_test2[:num_sequences])) ]\n",
    "bvr2_in_bvr1_log_prob_test = [ hmm8_1.log_probability( BVR_test2[a] ) for a in range(len(BVR_test2[:num_sequences])) ]\n",
    "bvr1_in_bvr2_log_prob_test = [ hmm8_2.log_probability( BVR_test1[a] ) for a in range(len(BVR_test1[:num_sequences])) ]\n",
    "\n",
    "num_sequences = 60\n",
    "bvr1_in_swr1_log_prob_test = [ swrhmm8_1.log_probability( BVR_test1[a] ) for a in range(len(BVR_test1[:num_sequences])) ]\n",
    "bvr2_in_swr2_log_prob_test = [ swrhmm8_2.log_probability( BVR_test2[a] ) for a in range(len(BVR_test2[:num_sequences])) ]\n",
    "bvr2_in_swr1_log_prob_test = [ swrhmm8_1.log_probability( BVR_test2[a] ) for a in range(len(BVR_test2[:num_sequences])) ]\n",
    "bvr1_in_swr2_log_prob_test = [ swrhmm8_2.log_probability( BVR_test1[a] ) for a in range(len(BVR_test1[:num_sequences])) ]\n",
    "\n",
    "num_sequences = 60\n",
    "swr1_in_bvr1_log_prob_test = [ hmm8_1.log_probability( SWR_test1[a] ) for a in range(len(SWR_test1[:num_sequences])) ]\n",
    "swr2_in_bvr2_log_prob_test = [ hmm8_2.log_probability( SWR_test2[a] ) for a in range(len(SWR_test2[:num_sequences])) ]\n",
    "swr2_in_bvr1_log_prob_test = [ hmm8_1.log_probability( SWR_test2[a] ) for a in range(len(SWR_test2[:num_sequences])) ]\n",
    "swr1_in_bvr2_log_prob_test = [ hmm8_2.log_probability( SWR_test1[a] ) for a in range(len(SWR_test1[:num_sequences])) ]\n",
    "\n",
    "num_sequences = 60\n",
    "swr1_in_swr1_log_prob_test = [ swrhmm8_1.log_probability( SWR_test1[a] ) for a in range(len(SWR_test1[:num_sequences])) ]\n",
    "swr2_in_swr2_log_prob_test = [ swrhmm8_2.log_probability( SWR_test2[a] ) for a in range(len(SWR_test2[:num_sequences])) ]\n",
    "swr2_in_swr1_log_prob_test = [ swrhmm8_1.log_probability( SWR_test2[a] ) for a in range(len(SWR_test2[:num_sequences])) ]\n",
    "swr1_in_swr2_log_prob_test = [ swrhmm8_2.log_probability( SWR_test1[a] ) for a in range(len(SWR_test1[:num_sequences])) ]\n",
    "\n",
    "# normalized versions:\n",
    "\n",
    "#num_sequences = 60\n",
    "#bvr1_in_bvr1_log_prob_test_nrm = [ hmm8_1.log_probability( BVR_test1[a] ) - best_state_sequence(hmm8_1,len(BVR_test1[0]))[0] for a in range(len(BVR_test1[:num_sequences])) ]\n",
    "#bvr2_in_bvr2_log_prob_test_nrm = [ hmm8_2.log_probability( BVR_test2[a] ) - best_state_sequence(hmm8_2,len(BVR_test2[0]))[0] for a in range(len(BVR_test2[:num_sequences])) ]\n",
    "#bvr2_in_bvr1_log_prob_test_nrm = [ hmm8_1.log_probability( BVR_test2[a] ) - best_state_sequence(hmm8_1,len(BVR_test2[0]))[0] for a in range(len(BVR_test2[:num_sequences])) ]\n",
    "#bvr1_in_bvr2_log_prob_test_nrm = [ hmm8_2.log_probability( BVR_test1[a] ) - best_state_sequence(hmm8_2,len(BVR_test1[0]))[0] for a in range(len(BVR_test1[:num_sequences])) ]\n",
    "\n",
    "#num_sequences = 60\n",
    "#bvr1_in_swr1_log_prob_test_nrm = [ swrhmm8_1.log_probability( BVR_test1[a] ) - best_state_sequence(swrhmm8_1,len(BVR_test1[0]))[0] for a in range(len(BVR_test1[:num_sequences])) ]\n",
    "#bvr2_in_swr2_log_prob_test_nrm = [ swrhmm8_2.log_probability( BVR_test2[a] ) - best_state_sequence(swrhmm8_2,len(BVR_test2[0]))[0] for a in range(len(BVR_test2[:num_sequences])) ]\n",
    "#bvr2_in_swr1_log_prob_test_nrm = [ swrhmm8_1.log_probability( BVR_test2[a] ) - best_state_sequence(swrhmm8_1,len(BVR_test2[0]))[0] for a in range(len(BVR_test2[:num_sequences])) ]\n",
    "#bvr1_in_swr2_log_prob_test_nrm = [ swrhmm8_2.log_probability( BVR_test1[a] ) - best_state_sequence(swrhmm8_2,len(BVR_test1[0]))[0] for a in range(len(BVR_test1[:num_sequences])) ]\n",
    "\n",
    "#num_sequences = 60\n",
    "#swr1_in_bvr1_log_prob_test_nrm = [ hmm8_1.log_probability( SWR_test1[a] ) - best_state_sequence(hmm8_1,len(SWR_test1[0]))[0] for a in range(len(SWR_test1[:num_sequences])) ]\n",
    "#swr2_in_bvr2_log_prob_test_nrm = [ hmm8_2.log_probability( SWR_test2[a] ) - best_state_sequence(hmm8_2,len(SWR_test2[0]))[0] for a in range(len(SWR_test2[:num_sequences])) ]\n",
    "#swr2_in_bvr1_log_prob_test_nrm = [ hmm8_1.log_probability( SWR_test2[a] ) - best_state_sequence(hmm8_1,len(SWR_test2[0]))[0] for a in range(len(SWR_test2[:num_sequences])) ]\n",
    "#swr1_in_bvr2_log_prob_test_nrm = [ hmm8_2.log_probability( SWR_test1[a] ) - best_state_sequence(hmm8_2,len(SWR_test1[0]))[0] for a in range(len(SWR_test1[:num_sequences])) ]\n"
   ]
  },
  {
   "cell_type": "code",
   "execution_count": 21,
   "metadata": {
    "collapsed": false
   },
   "outputs": [
    {
     "name": "stdout",
     "output_type": "stream",
     "text": [
      "Saving figure to 'figures/logprob-bvr-in-bvr-m8-new.pdf'...\n",
      "Done\n"
     ]
    },
    {
     "data": {
      "image/png": "[encoded data removed]",
      "text/plain": [
       "<matplotlib.figure.Figure at 0x7f7a08a5f358>"
      ]
     },
     "metadata": {},
     "output_type": "display_data"
    }
   ],
   "source": [
    "sns.set(rc={'figure.figsize': (6, 4),'lines.linewidth': 3, 'font.size': 16, 'axes.labelsize': 14, 'legend.fontsize': 12, 'ytick.labelsize': 12, 'xtick.labelsize': 12 })\n",
    "sns.set_style(\"white\")\n",
    "f, ( ax1) = plt.subplots(1,1)\n",
    "\n",
    "sns.distplot( bvr2_in_bvr1_log_prob_test, bins=20, hist=False, kde=True, rug=False, axlabel='log probability', ax=ax1, kde_kws={\"lw\": 3, \"label\": \"log p(Y=2|e=1)\"}  );\n",
    "#sns.distplot( bvr1_in_bvr2_log_prob_test, bins=20, hist=False, kde=True, rug=False, axlabel='log probability', ax=ax2, kde_kws={\"lw\": 3, \"label\": \"log p(Y=1|e=2)\"} );\n",
    "sns.distplot( bvr1_in_bvr1_log_prob_test, bins=20, hist=False, kde=True, rug=False, axlabel='log probability', ax=ax1, kde_kws={\"lw\": 3, \"label\": \"log p(Y=1|e=1)\"} );\n",
    "#sns.distplot( bvr2_in_bvr2_log_prob_test, bins=20, hist=False, kde=True, rug=False, axlabel='log probability', ax=ax2, kde_kws={\"lw\": 3, \"label\": \"log p(Y=2|e=2)\"} );\n",
    "\n",
    "ax1.set_title('BVR_test{1,2} in BVR_train{1}')\n",
    "#ax2.set_title('BVR_test{1,2} in BVR_train{2}')\n",
    "\n",
    "#ax2.set_xlim([-20000, 0])\n",
    "\n",
    "#saveFigure(\"figures/logprob-bvr-in-bvr-m8-new.pdf\")"
   ]
  },
  {
   "cell_type": "code",
   "execution_count": 115,
   "metadata": {
    "collapsed": false
   },
   "outputs": [
    {
     "name": "stdout",
     "output_type": "stream",
     "text": [
      "Saving figure to 'figures/logprob-swr-in-bvr2-m8-new.pdf'...\n",
      "Done\n"
     ]
    },
    {
     "data": {
      "image/png": "[encoded data removed]",
      "text/plain": [
       "<matplotlib.figure.Figure at 0x7f7a03f7d860>"
      ]
     },
     "metadata": {},
     "output_type": "display_data"
    }
   ],
   "source": [
    "sns.set(rc={'figure.figsize': (6, 4),'lines.linewidth': 3, 'font.size': 16, 'axes.labelsize': 14, 'legend.fontsize': 12, 'ytick.labelsize': 12, 'xtick.labelsize': 12 })\n",
    "sns.set_style(\"white\")\n",
    "f, ( ax1 ) = plt.subplots(1,1)\n",
    "\n",
    "#sns.distplot( swr2_in_bvr1_log_prob_test, bins=20, hist=False, kde=True, rug=False, axlabel='log probability', ax=ax1, kde_kws={\"lw\": 3, \"label\": \"log p(Y=2|e=1)\"}  );\n",
    "sns.distplot( swr1_in_bvr2_log_prob_test, bins=20, hist=False, kde=True, rug=False, axlabel='log probability', ax=ax1, kde_kws={\"lw\": 3, \"label\": \"log p(Y=1|e=2)\"} );\n",
    "#sns.distplot( swr1_in_bvr1_log_prob_test, bins=20, hist=False, kde=True, rug=False, axlabel='log probability', ax=ax1, kde_kws={\"lw\": 3, \"label\": \"log p(Y=1|e=1)\"} );\n",
    "sns.distplot( swr2_in_bvr2_log_prob_test, bins=20, hist=False, kde=True, rug=False, axlabel='log probability', ax=ax1, kde_kws={\"lw\": 3, \"label\": \"log p(Y=2|e=2)\"} );\n",
    "\n",
    "ax1.set_title('SWR_test{1,2} in BVR_train{2}')\n",
    "#ax2.set_title('SWR_test{1,2} in BVR_train{2}')\n",
    "\n",
    "saveFigure(\"figures/logprob-swr-in-bvr2-m8-new.pdf\")"
   ]
  },
  {
   "cell_type": "code",
   "execution_count": 25,
   "metadata": {
    "collapsed": false
   },
   "outputs": [
    {
     "name": "stdout",
     "output_type": "stream",
     "text": [
      "Saving figure to 'figures/logprob-bvr-in-swr-m8-new.pdf'...\n",
      "Done\n"
     ]
    },
    {
     "data": {
      "image/png": "[encoded data removed]",
      "text/plain": [
       "<matplotlib.figure.Figure at 0x7f7a07f54630>"
      ]
     },
     "metadata": {},
     "output_type": "display_data"
    }
   ],
   "source": [
    "sns.set(rc={'figure.figsize': (6, 4),'lines.linewidth': 3, 'font.size': 16, 'axes.labelsize': 14, 'legend.fontsize': 12, 'ytick.labelsize': 12, 'xtick.labelsize': 12 })\n",
    "sns.set_style(\"white\")\n",
    "f, ( ax1) = plt.subplots(1)\n",
    "\n",
    "sns.distplot( bvr2_in_swr1_log_prob_test, bins=20, hist=False, kde=True, rug=False, axlabel='log probability', ax=ax1, kde_kws={\"lw\": 3, \"label\": \"log p(Y=2|e=1)\"}  );\n",
    "#sns.distplot( bvr1_in_swr2_log_prob_test, bins=20, hist=False, kde=True, rug=False, axlabel='log probability', ax=ax2, kde_kws={\"lw\": 3, \"label\": \"log p(Y=1|e=2)\"} );\n",
    "sns.distplot( bvr1_in_swr1_log_prob_test, bins=20, hist=False, kde=True, rug=False, axlabel='log probability', ax=ax1, kde_kws={\"lw\": 3, \"label\": \"log p(Y=1|e=1)\"} );\n",
    "#sns.distplot( bvr2_in_swr2_log_prob_test, bins=20, hist=False, kde=True, rug=False, axlabel='log probability', ax=ax2, kde_kws={\"lw\": 3, \"label\": \"log p(Y=2|e=2)\"} );\n",
    "\n",
    "ax1.set_title('BVR_test{1,2} in SWR_train{1}')\n",
    "#ax2.set_title('BVR_test{1,2} in SWR_train{2}')\n",
    "\n",
    "#saveFigure(\"figures/logprob-bvr-in-swr-m8-new.pdf\")\n"
   ]
  },
  {
   "cell_type": "code",
   "execution_count": null,
   "metadata": {
    "collapsed": false,
    "scrolled": false
   },
   "outputs": [],
   "source": [
    "\n",
    "sns.set(rc={'figure.figsize': (12, 4),'lines.linewidth': 3, 'font.size': 16, 'axes.labelsize': 14, 'legend.fontsize': 12, 'ytick.labelsize': 12, 'xtick.labelsize': 12 })\n",
    "sns.set_style(\"white\")\n",
    "f, ( ax1, ax2 ) = plt.subplots(1,2)\n",
    "\n",
    "sns.distplot( swr2_in_swr1_log_prob_test, bins=20, hist=False, kde=True, rug=False, axlabel='log probability', ax=ax1, kde_kws={\"lw\": 3, \"label\": \"log p(Y=2|e=1)\"}  );\n",
    "sns.distplot( swr1_in_swr2_log_prob_test, bins=20, hist=False, kde=True, rug=False, axlabel='log probability', ax=ax2, kde_kws={\"lw\": 3, \"label\": \"log p(Y=1|e=2)\"} );\n",
    "sns.distplot( swr1_in_swr1_log_prob_test, bins=20, hist=False, kde=True, rug=False, axlabel='log probability', ax=ax1, kde_kws={\"lw\": 3, \"label\": \"log p(Y=1|e=1)\"} );\n",
    "sns.distplot( swr2_in_swr2_log_prob_test, bins=20, hist=False, kde=True, rug=False, axlabel='log probability', ax=ax2, kde_kws={\"lw\": 3, \"label\": \"log p(Y=2|e=2)\"} );\n",
    "\n",
    "ax1.set_title('SWR_test{1,2} in SWR_train{1}')\n",
    "ax2.set_title('SWR_test{1,2} in SWR_train{2}')\n",
    "\n",
    "#saveFigure(\"figures/logprob-swr-in-swr-m8.pdf\")"
   ]
  },
  {
   "cell_type": "markdown",
   "metadata": {},
   "source": [
    "## Shuffle bins in observation sequences and evaluate in models:\n",
    "\n",
    "We would **hope** that if we shuffle observations in a sequence, that the observation sequence would no longer be consistent with the HMM. However, one thing to keep in mind is that if we have really short sequences, or if we have sequences where the animal hardly changed states, then such a shuffling strategy would not lead to any meaningful difference in the log-probability of the sequence in the HMM."
   ]
  },
  {
   "cell_type": "code",
   "execution_count": 141,
   "metadata": {
    "collapsed": true
   },
   "outputs": [],
   "source": [
    "import copy\n",
    "shuffled_swr2_test = copy.deepcopy(SWR_test2) # make a copy of the bvr test data for LinearOne\n"
   ]
  },
  {
   "cell_type": "code",
   "execution_count": 142,
   "metadata": {
    "collapsed": false
   },
   "outputs": [
    {
     "data": {
      "text/plain": [
       "-4515.402559021384"
      ]
     },
     "execution_count": 142,
     "metadata": {},
     "output_type": "execute_result"
    }
   ],
   "source": [
    "shuffle(shuffled_swr2_test[0])\n",
    "hmm8_2.log_probability(shuffled_swr2_test[0])\n"
   ]
  },
  {
   "cell_type": "code",
   "execution_count": null,
   "metadata": {
    "collapsed": false
   },
   "outputs": [],
   "source": [
    "from random import shuffle\n",
    "\n",
    "# for each sequence, shuffle the observations (the bins)\n",
    "for ll in np.arange(0,len(shuffled_bvr1_test)):\n",
    "    shuffle(shuffled_bvr1_test[ll])\n",
    "\n",
    "# for each sequence, shuffle the observations (the bins)\n",
    "for ll in np.arange(0,len(shuffled_bvr2_test)):\n",
    "    shuffle(shuffled_bvr2_test[ll])"
   ]
  },
  {
   "cell_type": "code",
   "execution_count": 151,
   "metadata": {
    "collapsed": false
   },
   "outputs": [
    {
     "name": "stdout",
     "output_type": "stream",
     "text": [
      "seq len: 13\n"
     ]
    }
   ],
   "source": [
    "seq = SWR_test2[49]\n",
    "sseq = copy.deepcopy(seq)\n",
    "print('seq len: {0}'.format(len(seq)))\n",
    "shufflplist = []\n",
    "for ii in np.arange(0,30):\n",
    "    shuffle(sseq)\n",
    "    shufflplist.append(hmm8_1.log_probability( sseq ))\n",
    "\n"
   ]
  },
  {
   "cell_type": "code",
   "execution_count": 152,
   "metadata": {
    "collapsed": false
   },
   "outputs": [],
   "source": [
    "shufflplist2 = []\n",
    "for ii in np.arange(0,30):\n",
    "    shuffle(sseq)\n",
    "    shufflplist2.append(hmm8_2.log_probability( sseq ))\n"
   ]
  },
  {
   "cell_type": "code",
   "execution_count": 157,
   "metadata": {
    "collapsed": false
   },
   "outputs": [
    {
     "data": {
      "text/plain": [
       "-706.4061762546936"
      ]
     },
     "execution_count": 157,
     "metadata": {},
     "output_type": "execute_result"
    }
   ],
   "source": [
    "hmm8_2.log_probability(SWR_test2[49])"
   ]
  },
  {
   "cell_type": "code",
   "execution_count": 156,
   "metadata": {
    "collapsed": false
   },
   "outputs": [
    {
     "data": {
      "text/plain": [
       "-365.2141069443752"
      ]
     },
     "execution_count": 156,
     "metadata": {},
     "output_type": "execute_result"
    }
   ],
   "source": [
    "hmm8_1.log_probability(SWR_test2[49])"
   ]
  },
  {
   "cell_type": "code",
   "execution_count": 155,
   "metadata": {
    "collapsed": false
   },
   "outputs": [
    {
     "data": {
      "text/plain": [
       "<matplotlib.axes._subplots.AxesSubplot at 0x7f79e9a4d400>"
      ]
     },
     "execution_count": 155,
     "metadata": {},
     "output_type": "execute_result"
    },
    {
     "data": {
      "image/png": "[encoded data removed]",
      "text/plain": [
       "<matplotlib.figure.Figure at 0x7f79e6224d30>"
      ]
     },
     "metadata": {},
     "output_type": "display_data"
    }
   ],
   "source": [
    "sns.set(rc={'figure.figsize': (12, 4),'lines.linewidth': 3, 'font.size': 16, 'axes.labelsize': 14, 'legend.fontsize': 12, 'ytick.labelsize': 12, 'xtick.labelsize': 12 })\n",
    "sns.set_style(\"white\")\n",
    "f, ( ax1, ax2 ) = plt.subplots(1,2)\n",
    "\n",
    "sns.distplot( shufflplist, bins=20, hist=True, kde=True, rug=False, ax=ax1, axlabel='log probability', kde_kws={\"lw\": 3, \"label\": \"BVR1\"}  );\n",
    "sns.distplot( shufflplist2, bins=20, hist=True, kde=True, rug=False, ax=ax2, axlabel='log probability', kde_kws={\"lw\": 3, \"label\": \"BVR2\"}  );\n",
    "\n",
    "#saveFigure(\"figures/shuffled-bvr1.pdf\")"
   ]
  },
  {
   "cell_type": "code",
   "execution_count": null,
   "metadata": {
    "collapsed": true
   },
   "outputs": [],
   "source": [
    "num_sequences = 60\n",
    "bvr1_in_bvr1_log_prob_test_m15 = [ hmm15_1.log_probability( BVR_test1[a] ) for a in range(len(BVR_test1[:num_sequences])) ]\n",
    "bvr1_shuffled_in_bvr1_log_prob_test_m15 = [ hmm15_1.log_probability( shuffled_bvr1_test[a] ) for a in range(len(shuffled_bvr1_test[:num_sequences])) ]\n",
    "bvr2_in_bvr2_log_prob_test_m15 = [ hmm15_2.log_probability( BVR_test2[a] ) for a in range(len(BVR_test2[:num_sequences])) ]\n",
    "bvr2_shuffled_in_bvr2_log_prob_test_m15 = [ hmm15_2.log_probability( shuffled_bvr2_test[a] ) for a in range(len(shuffled_bvr2_test[:num_sequences])) ]\n",
    "\n",
    "bvr1_in_bvr1_log_prob_test_m8 = [ hmm8_1.log_probability( BVR_test1[a] ) for a in range(len(BVR_test1[:num_sequences])) ]\n",
    "bvr1_shuffled_in_bvr1_log_prob_test_m8 = [ hmm8_1.log_probability( shuffled_bvr1_test[a] ) for a in range(len(shuffled_bvr1_test[:num_sequences])) ]\n",
    "bvr2_in_bvr2_log_prob_test_m8 = [ hmm8_2.log_probability( BVR_test2[a] ) for a in range(len(BVR_test2[:num_sequences])) ]\n",
    "bvr2_shuffled_in_bvr2_log_prob_test_m8 = [ hmm8_2.log_probability( shuffled_bvr2_test[a] ) for a in range(len(shuffled_bvr2_test[:num_sequences])) ]"
   ]
  },
  {
   "cell_type": "code",
   "execution_count": null,
   "metadata": {
    "collapsed": false
   },
   "outputs": [],
   "source": [
    "sns.set(rc={'figure.figsize': (6, 4),'lines.linewidth': 3, 'font.size': 16, 'axes.labelsize': 14, 'legend.fontsize': 12, 'ytick.labelsize': 12, 'xtick.labelsize': 12 })\n",
    "sns.set_style(\"white\")\n",
    "f, ( ax1 ) = plt.subplots(1,1)\n",
    "\n",
    "sns.distplot( bvr1_in_bvr1_log_prob_test_m8, bins=20, hist=True, kde=True, rug=False, ax=ax1, axlabel='log probability', kde_kws={\"lw\": 3, \"label\": \"BVR1_test\"}  );\n",
    "sns.distplot( bvr1_shuffled_in_bvr1_log_prob_test_m8, bins=20, hist=True, kde=True, rug=False, ax=ax1, axlabel='log probability', kde_kws={\"lw\": 3, \"label\": \"BVR1_test_shuffled\"} );\n",
    "\n",
    "#sns.distplot( seq1_ratio_test, bins=20, hist=True, kde=True, axlabel='log odds', ax=ax1, kde_kws={\"lw\": 3, \"label\": \"log p(e=1|Y=2)/p(e=2|Y=2)\"} );\n",
    "#sns.distplot( seq2_ratio_test, bins=20, hist=True, kde=True, axlabel='log odds', ax=ax1, kde_kws={\"lw\": 3, \"label\": \"log p(e=1|Y=1)/p(e=2|Y=1)\"} );\n",
    "ax1.set_title(\"Shuffled test, m=8\",fontsize=14)\n",
    "\n",
    "#saveFigure(\"figures/shuffled-bvr1.pdf\")"
   ]
  },
  {
   "cell_type": "markdown",
   "metadata": {},
   "source": [
    "## Now repeat shuffle analysis for \"pseudo-normalized\" sequences"
   ]
  },
  {
   "cell_type": "code",
   "execution_count": null,
   "metadata": {
    "collapsed": false
   },
   "outputs": [],
   "source": [
    "# Random sequence of lengh L through model, along with log-prob:\n",
    "#seq = hmm15_1.sample(length=len(cand_seq))\n",
    "hmm15_1.viterbi(hmm15_1.sample(length=len(cand_seq)))[0]\n"
   ]
  },
  {
   "cell_type": "code",
   "execution_count": null,
   "metadata": {
    "collapsed": false
   },
   "outputs": [],
   "source": [
    "num_sequences = 60\n",
    "bvr1_in_bvr1_log_prob_test = [ hmm15_1.log_probability( BVR_test1[a] ) - hmm15_1.viterbi(hmm15_1.sample(length=len(BVR_test1[a])))[0] for a in range(len(BVR_test1[:num_sequences])) ]\n",
    "bvr1_shuffled_in_bvr1_log_prob_test = [ hmm15_1.log_probability( shuffled_bvr1_test[a] ) - hmm15_1.viterbi(hmm15_1.sample(length=len(BVR_test1[a])))[0] for a in range(len(shuffled_bvr1_test[:num_sequences])) ]"
   ]
  },
  {
   "cell_type": "code",
   "execution_count": null,
   "metadata": {
    "collapsed": false
   },
   "outputs": [],
   "source": [
    "sns.set(rc={'figure.figsize': (6, 4),'lines.linewidth': 3, 'font.size': 16, 'axes.labelsize': 14, 'legend.fontsize': 12, 'ytick.labelsize': 12, 'xtick.labelsize': 12 })\n",
    "sns.set_style(\"white\")\n",
    "f, ( ax1 ) = plt.subplots(1,1)\n",
    "\n",
    "sns.distplot( bvr1_in_bvr1_log_prob_test, bins=20, hist=True, kde=True, rug=False, ax=ax1, axlabel='log probability', kde_kws={\"lw\": 3, \"label\": \"BVR1_test\"}  );\n",
    "sns.distplot( bvr1_shuffled_in_bvr1_log_prob_test, bins=20, hist=True, kde=True, rug=False, ax=ax1, axlabel='log probability', kde_kws={\"lw\": 3, \"label\": \"BVR1_test_shuffled\"} );\n",
    "\n",
    "#sns.distplot( seq1_ratio_test, bins=20, hist=True, kde=True, axlabel='log odds', ax=ax1, kde_kws={\"lw\": 3, \"label\": \"log p(e=1|Y=2)/p(e=2|Y=2)\"} );\n",
    "#sns.distplot( seq2_ratio_test, bins=20, hist=True, kde=True, axlabel='log odds', ax=ax1, kde_kws={\"lw\": 3, \"label\": \"log p(e=1|Y=1)/p(e=2|Y=1)\"} );\n",
    "ax1.set_title(\"Shuffled test w pseudo-normalized sequences\",fontsize=14)\n",
    "\n",
    "#saveFigure(\"figures/shuffled-bvr1-normalized.pdf\")"
   ]
  },
  {
   "cell_type": "code",
   "execution_count": 26,
   "metadata": {
    "collapsed": true
   },
   "outputs": [],
   "source": [
    "import copy\n",
    "shuffled_bvr1_test = copy.deepcopy(BVR_test1) # make a copy of the bvr test data for LinearOne\n",
    "shuffled_bvr2_test = copy.deepcopy(BVR_test2) # make a copy of the bvr test data for LinearTwo\n"
   ]
  },
  {
   "cell_type": "code",
   "execution_count": 27,
   "metadata": {
    "collapsed": true
   },
   "outputs": [],
   "source": [
    "from random import shuffle\n",
    "\n",
    "# for each sequence, shuffle the observations (the bins)\n",
    "for ll in np.arange(0,len(shuffled_bvr1_test)):\n",
    "    shuffle(shuffled_bvr1_test[ll])\n",
    "\n",
    "# for each sequence, shuffle the observations (the bins)\n",
    "for ll in np.arange(0,len(shuffled_bvr2_test)):\n",
    "    shuffle(shuffled_bvr2_test[ll])"
   ]
  },
  {
   "cell_type": "code",
   "execution_count": 28,
   "metadata": {
    "collapsed": true
   },
   "outputs": [],
   "source": [
    "num_sequences = 60\n",
    "#bvr1_in_bvr1_log_prob_test_m10 = [ hmm10_1.log_probability( BVR_test1[a] ) for a in range(len(BVR_test1[:num_sequences])) ]\n",
    "#bvr1_shuffled_in_bvr1_log_prob_test_m10 = [ hmm10_1.log_probability( shuffled_bvr1_test[a] ) for a in range(len(shuffled_bvr1_test[:num_sequences])) ]\n",
    "bvr2_in_bvr2_log_prob_test_m8 = [ hmm8_2.log_probability( BVR_test2[a] ) for a in range(len(BVR_test2[:num_sequences])) ]\n",
    "bvr2_shuffled_in_bvr2_log_prob_test_m8 = [ hmm8_2.log_probability( shuffled_bvr2_test[a] ) for a in range(len(shuffled_bvr2_test[:num_sequences])) ]\n"
   ]
  },
  {
   "cell_type": "code",
   "execution_count": 34,
   "metadata": {
    "collapsed": true
   },
   "outputs": [],
   "source": [
    "num_sequences = 60\n",
    "#bvr1_in_bvr1_log_prob_test_m10 = [ hmm10_1.log_probability( BVR_test1[a] ) for a in range(len(BVR_test1[:num_sequences])) ]\n",
    "#bvr1_shuffled_in_bvr1_log_prob_test_m10 = [ hmm10_1.log_probability( shuffled_bvr1_test[a] ) for a in range(len(shuffled_bvr1_test[:num_sequences])) ]\n",
    "bvr1_in_bvr1_log_prob_test_m8 = [ hmm8_2.log_probability( BVR_test1[a] ) for a in range(len(BVR_test1[:num_sequences])) ]\n",
    "bvr1_shuffled_in_bvr1_log_prob_test_m8 = [ hmm8_2.log_probability( shuffled_bvr1_test[a] ) for a in range(len(shuffled_bvr1_test[:num_sequences])) ]\n"
   ]
  },
  {
   "cell_type": "code",
   "execution_count": 42,
   "metadata": {
    "collapsed": false
   },
   "outputs": [
    {
     "name": "stdout",
     "output_type": "stream",
     "text": [
      "Saving figure to 'figures/shuffled-bvr2-m8-new.pdf'...\n",
      "Done\n"
     ]
    },
    {
     "data": {
      "image/png": "[encoded data removed]",
      "text/plain": [
       "<matplotlib.figure.Figure at 0x7f7a06e8a6d8>"
      ]
     },
     "metadata": {},
     "output_type": "display_data"
    }
   ],
   "source": [
    "sns.set(rc={'figure.figsize': (6, 4),'lines.linewidth': 3, 'font.size': 16, 'axes.labelsize': 14, 'legend.fontsize': 12, 'ytick.labelsize': 12, 'xtick.labelsize': 12 })\n",
    "sns.set_style(\"white\")\n",
    "f, ( ax1 ) = plt.subplots(1,1)\n",
    "\n",
    "#sns.distplot( bvr1_in_bvr1_log_prob_test_m8, bins=50, hist=False, kde=True, rug=False, ax=ax1, axlabel='log probability', kde_kws={\"lw\": 3, \"label\": \"BVR1_test\"}  );\n",
    "#sns.distplot( bvr1_shuffled_in_bvr1_log_prob_test_m8, bins=50, hist=False, kde=True, rug=False, ax=ax1, axlabel='log probability', kde_kws={\"lw\": 3, \"label\": \"BVR1_test_shuffled\"} );\n",
    "sns.distplot( bvr2_shuffled_in_bvr2_log_prob_test_m8, bins=50, hist=False, kde=True, rug=False, ax=ax1, axlabel='log probability', kde_kws={\"lw\": 3, \"label\": \"shuffled\"} );\n",
    "sns.distplot( bvr2_in_bvr2_log_prob_test_m8, bins=50, hist=False, kde=True, rug=False, ax=ax1, axlabel='log probability', kde_kws={\"lw\": 3, \"label\": \"BVR2 sequences\"}  );\n",
    "\n",
    "ax1.set_title(\"Shuffled test, m=8\",fontsize=14)\n",
    "#ax1.set_xlim([-1000, -800])\n",
    "#saveFigure(\"figures/shuffled-bvr2-m8-new.pdf\")"
   ]
  },
  {
   "cell_type": "code",
   "execution_count": 78,
   "metadata": {
    "collapsed": false
   },
   "outputs": [
    {
     "data": {
      "text/plain": [
       "<matplotlib.colorbar.Colorbar at 0x7f7a04501ac8>"
      ]
     },
     "execution_count": 78,
     "metadata": {},
     "output_type": "execute_result"
    },
    {
     "data": {
      "image/png": "[encoded data removed]",
      "text/plain": [
       "<matplotlib.figure.Figure at 0x7f7a04501860>"
      ]
     },
     "metadata": {},
     "output_type": "display_data"
    }
   ],
   "source": [
    "sns.set(rc={'figure.figsize': (6, 4),'lines.linewidth': 3, 'font.size': 16, 'axes.labelsize': 14, 'legend.fontsize': 12, 'ytick.labelsize': 12, 'xtick.labelsize': 12 })\n",
    "sns.set_style(\"white\")\n",
    "\n",
    "plt.matshow(swrhmm8_1.dense_transition_matrix()[0:8,0:8], cmap=plt.cm.BuGn); plt.colorbar()\n",
    "\n",
    "#saveFigure(\"figures/swrhmm8_1-P.pdf\")"
   ]
  },
  {
   "cell_type": "code",
   "execution_count": 96,
   "metadata": {
    "collapsed": false
   },
   "outputs": [
    {
     "data": {
      "text/plain": [
       "[<matplotlib.lines.Line2D at 0x7f7a03eca400>]"
      ]
     },
     "execution_count": 96,
     "metadata": {},
     "output_type": "execute_result"
    },
    {
     "data": {
      "image/png": "[encoded data removed]",
      "text/plain": [
       "<matplotlib.figure.Figure at 0x7f7a03f4d908>"
      ]
     },
     "metadata": {},
     "output_type": "display_data"
    }
   ],
   "source": [
    "#swr1_in_bvr1_log_prob_test = [ hmm8_1.log_probability( SWR_test1[a] ) for a in range(len(SWR_test1[:num_sequences])) ]\n",
    "#swr2_in_bvr2_log_prob_test = [ hmm8_2.log_probability( SWR_test2[a] ) for a in range(len(SWR_test2[:num_sequences])) ]\n",
    "#swr2_in_bvr1_log_prob_test = [ hmm8_1.log_probability( SWR_test2[a] ) for a in range(len(SWR_test2[:num_sequences])) ]\n",
    "#swr1_in_bvr2_log_prob_test = [ hmm8_2.log_probability( SWR_test1[a] ) for a in range(len(SWR_test1[:num_sequences])) ]\n",
    "\n",
    "plt.scatter(swr1_in_bvr1_log_prob_test,swr1_in_bvr2_log_prob_test, color='g')\n",
    "plt.scatter(swr2_in_bvr1_log_prob_test,swr2_in_bvr2_log_prob_test, color='k')\n",
    "plt.xlabel('log p(Y|e=1)')\n",
    "plt.ylabel('log p(Y|e=2)')\n",
    "plt.axis('equal')\n",
    "plt.axis([-4500,0,-4500,0])\n",
    "plt.plot([-4000,0],[-4000,0])\n"
   ]
  },
  {
   "cell_type": "code",
   "execution_count": 149,
   "metadata": {
    "collapsed": false
   },
   "outputs": [
    {
     "data": {
      "text/plain": [
       "-365.2141069443752"
      ]
     },
     "execution_count": 149,
     "metadata": {},
     "output_type": "execute_result"
    }
   ],
   "source": [
    "hmm8_1.log_probability( SWR_test2[49])"
   ]
  },
  {
   "cell_type": "code",
   "execution_count": 150,
   "metadata": {
    "collapsed": false
   },
   "outputs": [
    {
     "data": {
      "text/plain": [
       "13"
      ]
     },
     "execution_count": 150,
     "metadata": {},
     "output_type": "execute_result"
    }
   ],
   "source": [
    "len(SWR_test2[49])"
   ]
  },
  {
   "cell_type": "code",
   "execution_count": 129,
   "metadata": {
    "collapsed": false
   },
   "outputs": [
    {
     "data": {
      "text/plain": [
       "[-4452.482421951776,\n",
       " -667.9647937015161,\n",
       " -342.9088762016691,\n",
       " -674.3325446323652,\n",
       " -579.5383462821172,\n",
       " -392.49578101675655,\n",
       " -930.98182254431,\n",
       " -443.6911157655278,\n",
       " -256.212585498969,\n",
       " -303.12581239611706,\n",
       " -444.3631913140602,\n",
       " -835.0956885886773,\n",
       " -1519.9841523028138,\n",
       " -303.95505598017047,\n",
       " -156.91462741395472,\n",
       " -961.7650703023147,\n",
       " -716.6244502074285,\n",
       " -212.97143187776715,\n",
       " -838.9351653386531,\n",
       " -581.1340582541903,\n",
       " -244.54772706916478,\n",
       " -103.71592817482639,\n",
       " -604.7337387373182,\n",
       " -488.8922314945012,\n",
       " -566.9606798860133,\n",
       " -682.4520717596474,\n",
       " -369.06189334773717,\n",
       " -696.8215030936263,\n",
       " -285.25528601165763,\n",
       " -287.9647453240742,\n",
       " -335.57982741678205,\n",
       " -516.775856012898,\n",
       " -868.9577849259691,\n",
       " -270.43967536095016,\n",
       " -219.47737277030134,\n",
       " -450.3201888507933,\n",
       " -370.93419239609835,\n",
       " -344.46572148788266,\n",
       " -788.1629425495686,\n",
       " -737.8084203980686,\n",
       " -877.7744728455854,\n",
       " -923.6107010693354,\n",
       " -994.5610681783479,\n",
       " -962.6609022337194,\n",
       " -1349.735685361004,\n",
       " -642.9185046716156,\n",
       " -338.18160797394387,\n",
       " -454.25930594636077,\n",
       " -477.0362434505062,\n",
       " -706.4061762546936,\n",
       " -386.06519015497986,\n",
       " -850.123422958853,\n",
       " -1253.6852097566668,\n",
       " -256.9415064830365,\n",
       " -1083.5989743079585,\n",
       " -345.5177448476969,\n",
       " -552.1959017384052,\n",
       " -173.66326094421257,\n",
       " -540.3163546189683,\n",
       " -848.5094250505414]"
      ]
     },
     "execution_count": 129,
     "metadata": {},
     "output_type": "execute_result"
    }
   ],
   "source": [
    "swr2_in_bvr2_log_prob_test"
   ]
  },
  {
   "cell_type": "code",
   "execution_count": 128,
   "metadata": {
    "collapsed": false
   },
   "outputs": [
    {
     "data": {
      "text/plain": [
       "[True,\n",
       " False,\n",
       " False,\n",
       " False,\n",
       " False,\n",
       " False,\n",
       " False,\n",
       " False,\n",
       " False,\n",
       " False,\n",
       " False,\n",
       " False,\n",
       " False,\n",
       " False,\n",
       " False,\n",
       " False,\n",
       " False,\n",
       " False,\n",
       " False,\n",
       " False,\n",
       " False,\n",
       " False,\n",
       " False,\n",
       " False,\n",
       " False,\n",
       " False,\n",
       " False,\n",
       " False,\n",
       " False,\n",
       " False,\n",
       " False,\n",
       " False,\n",
       " False,\n",
       " False,\n",
       " False,\n",
       " False,\n",
       " False,\n",
       " False,\n",
       " False,\n",
       " False,\n",
       " False,\n",
       " False,\n",
       " False,\n",
       " False,\n",
       " False,\n",
       " False,\n",
       " False,\n",
       " False,\n",
       " False,\n",
       " True,\n",
       " False,\n",
       " False,\n",
       " False,\n",
       " False,\n",
       " False,\n",
       " False,\n",
       " False,\n",
       " False,\n",
       " False,\n",
       " False]"
      ]
     },
     "execution_count": 128,
     "metadata": {},
     "output_type": "execute_result"
    }
   ],
   "source": [
    "[x > y+400 for (x,y) in zip(swr2_in_bvr1_log_prob_test,swr2_in_bvr2_log_prob_test) ]"
   ]
  },
  {
   "cell_type": "code",
   "execution_count": 109,
   "metadata": {
    "collapsed": false
   },
   "outputs": [
    {
     "data": {
      "text/plain": [
       "10"
      ]
     },
     "execution_count": 109,
     "metadata": {},
     "output_type": "execute_result"
    }
   ],
   "source": [
    "5+5"
   ]
  },
  {
   "cell_type": "code",
   "execution_count": 117,
   "metadata": {
    "collapsed": false
   },
   "outputs": [
    {
     "data": {
      "text/plain": [
       "<matplotlib.text.Text at 0x7f79e2ae9898>"
      ]
     },
     "execution_count": 117,
     "metadata": {},
     "output_type": "execute_result"
    },
    {
     "data": {
      "image/png": "[encoded data removed]",
      "text/plain": [
       "<matplotlib.figure.Figure at 0x7f7a04082588>"
      ]
     },
     "metadata": {},
     "output_type": "display_data"
    }
   ],
   "source": [
    "plt.scatter(bvr1_in_bvr1_log_prob_test,bvr1_in_bvr2_log_prob_test, color='g')\n",
    "plt.scatter(bvr2_in_bvr1_log_prob_test,bvr2_in_bvr2_log_prob_test, color='k')\n",
    "plt.xlabel('log p(Y|e=1)')\n",
    "plt.ylabel('log p(Y|e=2)')\n",
    "plt.axis('equal')\n",
    "plt.axis([-20000,0,-20000,0])\n",
    "plt.plot([-4000,0],[-4000,0])\n",
    "plt.title('bvr in bvr')\n"
   ]
  },
  {
   "cell_type": "code",
   "execution_count": 103,
   "metadata": {
    "collapsed": false
   },
   "outputs": [
    {
     "data": {
      "text/plain": [
       "<matplotlib.text.Text at 0x7f7a04fd2a90>"
      ]
     },
     "execution_count": 103,
     "metadata": {},
     "output_type": "execute_result"
    },
    {
     "data": {
      "image/png": "[encoded data removed]",
      "text/plain": [
       "<matplotlib.figure.Figure at 0x7f7a02b2a2e8>"
      ]
     },
     "metadata": {},
     "output_type": "display_data"
    }
   ],
   "source": [
    "plt.scatter(swr1_in_swr1_log_prob_test,swr1_in_swr2_log_prob_test, color='g')\n",
    "plt.scatter(swr2_in_swr1_log_prob_test,swr2_in_swr2_log_prob_test, color='k')\n",
    "plt.xlabel('log p(Y|e=1)')\n",
    "plt.ylabel('log p(Y|e=2)')\n",
    "plt.axis('equal')\n",
    "plt.axis([-3000,0,-3000,0])\n",
    "plt.plot([-4000,0],[-4000,0])\n",
    "plt.title('swr in swr')\n"
   ]
  },
  {
   "cell_type": "code",
   "execution_count": 114,
   "metadata": {
    "collapsed": false
   },
   "outputs": [
    {
     "data": {
      "text/plain": [
       "10"
      ]
     },
     "execution_count": 114,
     "metadata": {},
     "output_type": "execute_result"
    }
   ],
   "source": [
    "5+5"
   ]
  }
 ],
 "metadata": {
  "kernelspec": {
   "display_name": "Python 3",
   "language": "python",
   "name": "python3"
  },
  "language_info": {
   "codemirror_mode": {
    "name": "ipython",
    "version": 3
   },
   "file_extension": ".py",
   "mimetype": "text/x-python",
   "name": "python",
   "nbconvert_exporter": "python",
   "pygments_lexer": "ipython3",
   "version": "3.4.3"
  }
 },
 "nbformat": 4,
 "nbformat_minor": 0
}
